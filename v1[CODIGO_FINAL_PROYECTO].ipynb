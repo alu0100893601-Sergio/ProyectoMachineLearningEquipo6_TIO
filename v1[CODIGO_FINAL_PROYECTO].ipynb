{
  "nbformat": 4,
  "nbformat_minor": 0,
  "metadata": {
    "kernelspec": {
      "display_name": "R",
      "language": "R",
      "name": "ir"
    },
    "language_info": {
      "codemirror_mode": "r",
      "file_extension": ".r",
      "mimetype": "text/x-r-source",
      "name": "R",
      "pygments_lexer": "r",
      "version": "3.3.1"
    },
    "colab": {
      "name": "[CODIGO FINAL PROYECTO].ipynb",
      "provenance": [],
      "collapsed_sections": []
    }
  },
  "cells": [
    {
      "cell_type": "code",
      "metadata": {
        "id": "ZweqxBalPqPf",
        "colab_type": "code",
        "colab": {}
      },
      "source": [
        "########################################\n",
        "# Instalacion de paquetes\n",
        "if (!requireNamespace(\"caret\"))\n",
        "  install.packages(\"caret\")\n",
        "if (!requireNamespace(\"tidyverse\"))\n",
        "  install.packages(\"tidyverse\")\n",
        "if (!requireNamespace(\"ggpubr\"))\n",
        "  install.packages(\"ggpubr\")\n",
        "if (!requireNamespace(\"randomForest\"))\n",
        "  install.packages(\"randomForest\")\n",
        "if (!requireNamespace(\"doParallel\"))\n",
        "  install.packages(\"doParallel\")\n",
        "if (!requireNamespace(\"dplyr\"))\n",
        "  install.packages(\"dplyr\")\n",
        "if (!requireNamespace(\"kernlab\"))\n",
        "  install.packages(\"kernlab\")\n",
        "if (!requireNamespace(\"gbm\"))\n",
        "  install.packages(\"gbm\")"
      ],
      "execution_count": 0,
      "outputs": []
    },
    {
      "cell_type": "code",
      "metadata": {
        "id": "qxmn-5jCPuPR",
        "colab_type": "code",
        "colab": {}
      },
      "source": [
        "##################################\n",
        "# Include\n",
        "library(caret)\n",
        "library(tidyverse)\n",
        "library(randomForest)\n",
        "library(ggpubr)\n",
        "library(doParallel)\n",
        "library(dplyr)\n",
        "library(kernlab)\n",
        "library(gbm)"
      ],
      "execution_count": 0,
      "outputs": []
    },
    {
      "cell_type": "code",
      "metadata": {
        "id": "zUDEX7W6PvjK",
        "colab_type": "code",
        "colab": {}
      },
      "source": [
        "###################################\n",
        "# Paralelismo\n",
        "parallel::detectCores()\n",
        "\n",
        "cl <- makePSOCKcluster(4)\n",
        "\n",
        "registerDoParallel(cl)"
      ],
      "execution_count": 0,
      "outputs": []
    },
    {
      "cell_type": "code",
      "metadata": {
        "id": "nfy7TxqYP1pL",
        "colab_type": "code",
        "colab": {}
      },
      "source": [
        "####################################\n",
        "# Lectura de los datos\n",
        "datos_castillo <- read_csv(\"C:\\\\Users\\\\Sergio\\\\Desktop\\\\final_dataset_castillodelromeral.csv\", \n",
        "    col_types = cols(.default = col_character()))\n",
        "datos_castillo %>% mutate_if(is.character, as.factor)"
      ],
      "execution_count": 0,
      "outputs": []
    },
    {
      "cell_type": "code",
      "metadata": {
        "id": "2tLy1gpyP2jV",
        "colab_type": "code",
        "colab": {}
      },
      "source": [
        "#####################################\n",
        "# Resumen de los datos\n",
        "glimpse(datos_castillo)"
      ],
      "execution_count": 0,
      "outputs": []
    },
    {
      "cell_type": "code",
      "metadata": {
        "id": "VJ-Wue22P8VE",
        "colab_type": "code",
        "colab": {}
      },
      "source": [
        "####################################\n",
        "# PREPROCESADO DE LOS DATOS\n",
        "####################################\n",
        "# Establecer NA de R\n",
        "datos_castillo$NO[datos_castillo$NO == \"N\"] <- NA\n",
        "datos_castillo$NO2[datos_castillo$NO2 == \"N\"] <- NA\n",
        "datos_castillo$PM1.0[datos_castillo$PM1.0 == \"N\"] <- NA\n",
        "datos_castillo$PM2.5[datos_castillo$PM2.5 == \"N\"] <- NA\n",
        "datos_castillo$O3[datos_castillo$O3 == \"N\"] <- NA\n",
        "datos_castillo$CO[datos_castillo$CO == \"N\"] <- NA\n",
        "datos_castillo$NO2[datos_castillo$NO2 == \"N\"] <- NA"
      ],
      "execution_count": 0,
      "outputs": []
    },
    {
      "cell_type": "code",
      "metadata": {
        "id": "UrXmThGTP_6d",
        "colab_type": "code",
        "colab": {}
      },
      "source": [
        "# Establecer todos los datos a numerico\n",
        "datos_castillo$Hora <- as.numeric(datos_castillo$Hora)\n",
        "datos_castillo$SO2 <- as.numeric(datos_castillo$SO2)\n",
        "datos_castillo$NO <- as.numeric(datos_castillo$NO)\n",
        "datos_castillo$PM1.0 <- as.numeric(datos_castillo$PM1.0)\n",
        "datos_castillo$PM2.5 <- as.numeric(datos_castillo$PM2.5)\n",
        "datos_castillo$O3 <- as.numeric(datos_castillo$O3)\n",
        "datos_castillo$CO <- as.numeric(datos_castillo$CO)\n",
        "datos_castillo$NO2 <- as.numeric(datos_castillo$NO2)"
      ],
      "execution_count": 0,
      "outputs": []
    },
    {
      "cell_type": "code",
      "metadata": {
        "id": "hicxNxWJQA0Q",
        "colab_type": "code",
        "colab": {}
      },
      "source": [
        "####################################\n",
        "# Resumen de los datos\n",
        "glimpse(datos_castillo)\n",
        "\n",
        "# Obtener el numero de entradas\n",
        "nrow(datos_castillo)"
      ],
      "execution_count": 0,
      "outputs": []
    },
    {
      "cell_type": "code",
      "metadata": {
        "id": "kgne4o02QCm3",
        "colab_type": "code",
        "colab": {}
      },
      "source": [
        "####################################\n",
        "# Comprobar si hay alguna fila incompleta\n",
        "any(!complete.cases(datos_castillo))\n",
        "\n",
        "# Numero de datos ausentes por variable\n",
        "map_dbl(datos_castillo, .f = function(x){sum(is.na(x))})"
      ],
      "execution_count": 0,
      "outputs": []
    },
    {
      "cell_type": "code",
      "metadata": {
        "id": "pxtFFIccQHqS",
        "colab_type": "code",
        "colab": {}
      },
      "source": [
        "####################################\n",
        "#Para eliminar las filas con valor nulo en la clase\n",
        "datos_castillo <- datos_castillo[!is.na(datos_castillo$NO2),]\n",
        "datos_castillo <- datos_castillo[!is.na(datos_castillo$NO),]\n",
        "datos_castillo <- datos_castillo[!is.na(datos_castillo$PM1.0),]\n",
        "datos_castillo <- datos_castillo[!is.na(datos_castillo$PM2.5),]\n",
        "datos_castillo <- datos_castillo[!is.na(datos_castillo$O3),]\n",
        "datos_castillo <- datos_castillo[!is.na(datos_castillo$CO),]\n",
        "datos_castillo <- datos_castillo[!is.na(datos_castillo$SO2),]"
      ],
      "execution_count": 0,
      "outputs": []
    },
    {
      "cell_type": "code",
      "metadata": {
        "id": "esa_010uQHhx",
        "colab_type": "code",
        "colab": {}
      },
      "source": [
        "####################################\n",
        "# Numero de datos ausentes por variable\n",
        "map_dbl(datos_castillo, .f = function(x){sum(is.na(x))})\n",
        "\n",
        "# Obtener el numero de entradas\n",
        "nrow(datos_castillo)"
      ],
      "execution_count": 0,
      "outputs": []
    },
    {
      "cell_type": "code",
      "metadata": {
        "id": "jPUI3e_uQLiT",
        "colab_type": "code",
        "colab": {}
      },
      "source": [
        "####################################\n",
        "# Identificar que variables contienen valores \"\"\n",
        "datos_castillo %>% map_lgl(.f = function(x){any(!is.na(x) & x == \"\")})"
      ],
      "execution_count": 0,
      "outputs": []
    },
    {
      "cell_type": "code",
      "metadata": {
        "id": "qXLTR0K8QPqW",
        "colab_type": "code",
        "colab": {}
      },
      "source": [
        "# Mirar la varianza de Class\n",
        "datos_castillo %>% select(NO2) %>% nearZeroVar(saveMetrics = TRUE)"
      ],
      "execution_count": 0,
      "outputs": []
    },
    {
      "cell_type": "code",
      "metadata": {
        "id": "P7cal505QRED",
        "colab_type": "code",
        "colab": {}
      },
      "source": [
        "####################################\n",
        "# Division de los datos en entrenamiento y testeo\n",
        "\n",
        "set.seed(123)"
      ],
      "execution_count": 0,
      "outputs": []
    },
    {
      "cell_type": "code",
      "metadata": {
        "id": "POcPebepQUjz",
        "colab_type": "code",
        "colab": {}
      },
      "source": [
        "# Se crean los indices de las observaciones de entrenamiento\n",
        "train <- createDataPartition(y = datos_castillo$NO2, p = 0.8, list = FALSE, times = 1)\n",
        "   \n",
        "datos_train <- datos_castillo[train, ]\n",
        "datos_test  <- datos_castillo[-train, ]"
      ],
      "execution_count": 0,
      "outputs": []
    },
    {
      "cell_type": "code",
      "metadata": {
        "id": "8lj24oHOQcBD",
        "colab_type": "code",
        "colab": {}
      },
      "source": [
        "#####################################\n",
        "#         RANDOM FOREST             #\n",
        "#####################################\n",
        "\n",
        "##################################\n",
        "# 1.\n",
        "# Metodo de entrenamiento repeatedcv sobre randomForest\n",
        "#\n",
        "# repeatedcv: permite hacer repeticiones\n",
        "# trainControl: Controla los matices de calculo de la funcion train\n",
        "# tuneLength: El parametro le dice al algoritmo que pruebe diferentes valores predeterminados\n",
        "#   para el parametro principal\n",
        "# number: numero de iteraciones de remuestreo\n",
        "# metric: RMSE (Raiz del error cuadratico medio)\n",
        "#\n",
        "set.seed(123)\n",
        "tc <- trainControl(method=\"repeatedcv\", \n",
        "                   number=6, \n",
        "                   repeats=2, \n",
        "                   verboseIter = FALSE,\n",
        "                   allowParallel = TRUE)\n",
        "modelo <- train(NO2~.,\n",
        "                data=datos_train ,\n",
        "                method='rf',\n",
        "                trControl=tc,\n",
        "                tuneLength = 3,\n",
        "                importance=TRUE,\n",
        "                metric='RMSE')\n",
        "modelo"
      ],
      "execution_count": 0,
      "outputs": []
    },
    {
      "cell_type": "code",
      "metadata": {
        "id": "k0p0PNyBQdKl",
        "colab_type": "code",
        "colab": {}
      },
      "source": [
        "# Vista de la importancia\n",
        "#\n",
        "# finalModel: muestra el tipo de modelo creado, el valor de los hiperparametros \n",
        "#    e información adicional, entre ella, el error de entrenamiento\n",
        "#\n",
        "varImp(modelo)\n",
        "modelo$finalModel"
      ],
      "execution_count": 0,
      "outputs": []
    },
    {
      "cell_type": "code",
      "metadata": {
        "id": "OULzCW6JQgRY",
        "colab_type": "code",
        "colab": {}
      },
      "source": [
        "# Valores metricas\n",
        "#\n",
        "# getTrainPerf: proporciona los resultados de rendimiento promedio de \n",
        "#   los mejores parametros ajustados promediados en los pliegues de \n",
        "#   validaciones cruzadas repetidas\n",
        "#\n",
        "getTrainPerf(modelo)"
      ],
      "execution_count": 0,
      "outputs": []
    },
    {
      "cell_type": "code",
      "metadata": {
        "id": "GHqSmg6GQiz7",
        "colab_type": "code",
        "colab": {}
      },
      "source": [
        "# Evaluar modelo\n",
        "#\n",
        "# predict: Hacer un objeto con predicciones de un objeto modelo ajustado\n",
        "#     a un entrenamiento previo\n",
        "# postResample: Dados dos vectores numericos de datos, se calculan el error \n",
        "#     cuadratico medio y el R cuadrado\n",
        "#\n",
        "set.seed(123)\n",
        "modelo_pred <- predict(modelo, \n",
        "                       newdata = datos_test ) \n",
        "postResample(modelo_pred, \n",
        "             datos_test$NO2)"
      ],
      "execution_count": 0,
      "outputs": []
    },
    {
      "cell_type": "code",
      "metadata": {
        "id": "1ml8GyCKQlI1",
        "colab_type": "code",
        "colab": {}
      },
      "source": [
        "####################################\n",
        "# 2.\n",
        "# Metodo de entrenamiento oob sobre randomForest\n",
        "# \n",
        "# oob: es un método para medir el error de predicción de randomForest\n",
        "#\n",
        "set.seed(123)\n",
        "tc <- trainControl(\"oob\",\n",
        "                   number=6, \n",
        "                   repeats=2, \n",
        "                   verboseIter = FALSE,\n",
        "                   allowParallel = TRUE)\n",
        "modelo <- train(NO2~.,\n",
        "                data=datos_train,\n",
        "                method='rf',\n",
        "                trControl=tc,\n",
        "                tuneLength=3,\n",
        "                importance=TRUE,\n",
        "                metric='RMSE')\n",
        "modelo"
      ],
      "execution_count": 0,
      "outputs": []
    },
    {
      "cell_type": "code",
      "metadata": {
        "id": "qEp467grQoYc",
        "colab_type": "code",
        "colab": {}
      },
      "source": [
        "# Vista de la importancia\n",
        "#\n",
        "varImp(modelo)\n",
        "modelo$finalModel"
      ],
      "execution_count": 0,
      "outputs": []
    },
    {
      "cell_type": "code",
      "metadata": {
        "id": "yrBrOvK6QqWK",
        "colab_type": "code",
        "colab": {}
      },
      "source": [
        "# Valores metricas\n",
        "#\n",
        "getTrainPerf(modelo)"
      ],
      "execution_count": 0,
      "outputs": []
    },
    {
      "cell_type": "code",
      "metadata": {
        "id": "NA8v-wtLQsxT",
        "colab_type": "code",
        "colab": {}
      },
      "source": [
        "# Evaluar modelo\n",
        "#\n",
        "set.seed(123)\n",
        "modelo_pred <- predict(modelo, \n",
        "                       newdata = datos_test ) \n",
        "postResample(modelo_pred, \n",
        "             datos_test$NO2)"
      ],
      "execution_count": 0,
      "outputs": []
    },
    {
      "cell_type": "code",
      "metadata": {
        "id": "zSkjtI5_QwNx",
        "colab_type": "code",
        "colab": {}
      },
      "source": [
        "####################################\n",
        "# 3.\n",
        "# Metodo de entrenamiento boot sobre randomForest\n",
        "# \n",
        "# boot: se utiliza para cuantificar la incertidumbre asociada con un \n",
        "# estimador dado o un enfoque de aprendizaje estadístico\n",
        "#\n",
        "set.seed(123)\n",
        "tc <- trainControl(\"boot\",\n",
        "                   number=6, \n",
        "                   repeats=2, \n",
        "                   verboseIter = FALSE,\n",
        "                   allowParallel = TRUE)\n",
        "modelo <- train(NO2~.,\n",
        "                data=datos_train,\n",
        "                method='rf',\n",
        "                trControl=tc,\n",
        "                tuneLength=3,\n",
        "                importance=TRUE,\n",
        "                metric='RMSE')\n",
        "modelo"
      ],
      "execution_count": 0,
      "outputs": []
    },
    {
      "cell_type": "code",
      "metadata": {
        "id": "eHB-e4PdQyG0",
        "colab_type": "code",
        "colab": {}
      },
      "source": [
        "# Vista de la importancia\n",
        "#\n",
        "varImp(modelo)\n",
        "modelo$finalModel"
      ],
      "execution_count": 0,
      "outputs": []
    },
    {
      "cell_type": "code",
      "metadata": {
        "id": "TAgAGSvMQz_2",
        "colab_type": "code",
        "colab": {}
      },
      "source": [
        "# Valores metricas\n",
        "#\n",
        "getTrainPerf(modelo)"
      ],
      "execution_count": 0,
      "outputs": []
    },
    {
      "cell_type": "code",
      "metadata": {
        "id": "5cCOZ0O5Q1ys",
        "colab_type": "code",
        "colab": {}
      },
      "source": [
        "# Evaluar modelo\n",
        "#\n",
        "set.seed(123)\n",
        "modelo_pred <- predict(modelo, \n",
        "                       newdata = datos_test ) \n",
        "postResample(modelo_pred, \n",
        "             datos_test$NO2)"
      ],
      "execution_count": 0,
      "outputs": []
    },
    {
      "cell_type": "code",
      "metadata": {
        "id": "wSUBnPosQ3yj",
        "colab_type": "code",
        "colab": {}
      },
      "source": [
        "#####################################\n",
        "#         SVM_Linear                #\n",
        "#####################################\n",
        "\n",
        "##################################\n",
        "# 1.\n",
        "# Metodo de entrenamiento boot sobre SVM-Linear\n",
        "#\n",
        "# svm-linear: SVM es un modelo que representa a los puntos de muestra \n",
        "# en el espacio\n",
        "#\n",
        "set.seed(123)\n",
        "tc <- trainControl(\"boot\",\n",
        "                   number=5,\n",
        "                   verboseIter = FALSE,\n",
        "                   allowParallel = TRUE)\n",
        "modelo <- train(NO2~.,\n",
        "                data=datos_train,\n",
        "                method='svmLinear',\n",
        "                trControl=tc,\n",
        "                tuneLength=3,\n",
        "                importance=TRUE,\n",
        "                metric='RMSE')\n",
        "modelo"
      ],
      "execution_count": 0,
      "outputs": []
    },
    {
      "cell_type": "code",
      "metadata": {
        "id": "2ej7tqflQ719",
        "colab_type": "code",
        "colab": {}
      },
      "source": [
        "# Vista de la importancia\n",
        "#\n",
        "varImp(modelo)\n",
        "modelo$finalMode"
      ],
      "execution_count": 0,
      "outputs": []
    },
    {
      "cell_type": "code",
      "metadata": {
        "id": "kLeRpCafQ-YX",
        "colab_type": "code",
        "colab": {}
      },
      "source": [
        "# Valores metricas\n",
        "#\n",
        "getTrainPerf(modelo)"
      ],
      "execution_count": 0,
      "outputs": []
    },
    {
      "cell_type": "code",
      "metadata": {
        "id": "2SYsz9sQRAkX",
        "colab_type": "code",
        "colab": {}
      },
      "source": [
        "# Evaluar modelo\n",
        "#\n",
        "set.seed(123)\n",
        "modelo_pred <- predict(modelo, \n",
        "                       newdata = datos_test ) \n",
        "postResample(modelo_pred, \n",
        "             datos_test$NO2)"
      ],
      "execution_count": 0,
      "outputs": []
    },
    {
      "cell_type": "code",
      "metadata": {
        "id": "ii_PrV6ORBmC",
        "colab_type": "code",
        "colab": {}
      },
      "source": [
        "#####################################\n",
        "#         LM                        #\n",
        "#####################################\n",
        "\n",
        "##################################\n",
        "# 1.\n",
        "# Metodo de entrenamiento boot sobre LM\n",
        "#\n",
        "# lm: regresión lineal\n",
        "#\n",
        "set.seed(123)\n",
        "tc <- trainControl(\"boot\",\n",
        "                   number=6, \n",
        "                   allowParallel = TRUE)\n",
        "modelo <- train(NO2~.,\n",
        "                data=datos_train,\n",
        "                method='lm',\n",
        "                trControl=tc,\n",
        "                tuneLength=3,\n",
        "                metric='RMSE')\n",
        "modelo"
      ],
      "execution_count": 0,
      "outputs": []
    },
    {
      "cell_type": "code",
      "metadata": {
        "id": "6NrXfbwURFV0",
        "colab_type": "code",
        "colab": {}
      },
      "source": [
        "# Vista de la importancia\n",
        "#\n",
        "varImp(modelo)\n",
        "modelo$finalModel"
      ],
      "execution_count": 0,
      "outputs": []
    },
    {
      "cell_type": "code",
      "metadata": {
        "id": "KeATIn33RHDA",
        "colab_type": "code",
        "colab": {}
      },
      "source": [
        "# Valores metricas\n",
        "#\n",
        "getTrainPerf(modelo)"
      ],
      "execution_count": 0,
      "outputs": []
    },
    {
      "cell_type": "code",
      "metadata": {
        "id": "zsPStfO7RJgD",
        "colab_type": "code",
        "colab": {}
      },
      "source": [
        "# Evaluar modelo\n",
        "#\n",
        "set.seed(123)\n",
        "modelo_pred <- predict(modelo, \n",
        "                       newdata = datos_test ) \n",
        "postResample(modelo_pred, \n",
        "             datos_test$NO2)"
      ],
      "execution_count": 0,
      "outputs": []
    }
  ]
}