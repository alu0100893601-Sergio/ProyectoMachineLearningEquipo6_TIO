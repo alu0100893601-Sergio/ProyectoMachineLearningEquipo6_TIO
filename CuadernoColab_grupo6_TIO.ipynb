{
  "nbformat": 4,
  "nbformat_minor": 0,
  "metadata": {
    "kernelspec": {
      "display_name": "R",
      "language": "R",
      "name": "ir"
    },
    "language_info": {
      "codemirror_mode": "r",
      "file_extension": ".r",
      "mimetype": "text/x-r-source",
      "name": "R",
      "pygments_lexer": "r",
      "version": "3.3.1"
    },
    "colab": {
      "name": "[CODIGO FINAL PROYECTO].ipynb",
      "provenance": [],
      "collapsed_sections": []
    }
  },
  "cells": [
    {
      "cell_type": "code",
      "metadata": {
        "id": "ZweqxBalPqPf",
        "colab_type": "code",
        "outputId": "68bf6e7f-1040-4a3c-a80b-a7968ff0bc47",
        "colab": {
          "base_uri": "https://localhost:8080/",
          "height": 921
        }
      },
      "source": [
        "########################################\n",
        "# Instalacion de paquetes\n",
        "if (!requireNamespace(\"caret\"))\n",
        "  install.packages(\"caret\")\n",
        "if (!requireNamespace(\"tidyverse\"))\n",
        "  install.packages(\"tidyverse\")\n",
        "if (!requireNamespace(\"ggpubr\"))\n",
        "  install.packages(\"ggpubr\")\n",
        "if (!requireNamespace(\"randomForest\"))\n",
        "  install.packages(\"randomForest\")\n",
        "if (!requireNamespace(\"doParallel\"))\n",
        "  install.packages(\"doParallel\")\n",
        "if (!requireNamespace(\"dplyr\"))\n",
        "  install.packages(\"dplyr\")\n",
        "if (!requireNamespace(\"kernlab\"))\n",
        "  install.packages(\"kernlab\")\n",
        "if (!requireNamespace(\"gbm\"))\n",
        "  install.packages(\"gbm\")\n",
        "if (!requireNamespace(\"ggplot2\"))\n",
        "  install.packages(\"ggplot2\")\n",
        "if (!requireNamespace(\"e1071\"))\n",
        "  install.packages(\"e1071\")\n",
        "if (!requireNamespace(\"ranger\"))\n",
        "  install.packages(\"ranger\")"
      ],
      "execution_count": 0,
      "outputs": [
        {
          "output_type": "stream",
          "text": [
            "Loading required namespace: caret\n",
            "\n",
            "Installing package into ‘/usr/local/lib/R/site-library’\n",
            "(as ‘lib’ is unspecified)\n",
            "\n",
            "also installing the dependencies ‘numDeriv’, ‘SQUAREM’, ‘lava’, ‘prodlim’, ‘iterators’, ‘data.table’, ‘gower’, ‘ipred’, ‘timeDate’, ‘foreach’, ‘ModelMetrics’, ‘recipes’\n",
            "\n",
            "\n",
            "Loading required namespace: tidyverse\n",
            "\n",
            "Loading required namespace: ggpubr\n",
            "\n",
            "Installing package into ‘/usr/local/lib/R/site-library’\n",
            "(as ‘lib’ is unspecified)\n",
            "\n",
            "also installing the dependencies ‘ggrepel’, ‘ggsci’, ‘cowplot’, ‘ggsignif’, ‘gridExtra’, ‘polynom’\n",
            "\n",
            "\n",
            "Loading required namespace: randomForest\n",
            "\n",
            "Installing package into ‘/usr/local/lib/R/site-library’\n",
            "(as ‘lib’ is unspecified)\n",
            "\n",
            "Loading required namespace: doParallel\n",
            "\n",
            "Installing package into ‘/usr/local/lib/R/site-library’\n",
            "(as ‘lib’ is unspecified)\n",
            "\n",
            "Loading required namespace: kernlab\n",
            "\n",
            "Installing package into ‘/usr/local/lib/R/site-library’\n",
            "(as ‘lib’ is unspecified)\n",
            "\n",
            "Loading required namespace: gbm\n",
            "\n",
            "Installing package into ‘/usr/local/lib/R/site-library’\n",
            "(as ‘lib’ is unspecified)\n",
            "\n",
            "Loading required namespace: e1071\n",
            "\n",
            "Installing package into ‘/usr/local/lib/R/site-library’\n",
            "(as ‘lib’ is unspecified)\n",
            "\n",
            "Loading required namespace: ranger\n",
            "\n",
            "Installing package into ‘/usr/local/lib/R/site-library’\n",
            "(as ‘lib’ is unspecified)\n",
            "\n",
            "also installing the dependency ‘RcppEigen’\n",
            "\n",
            "\n"
          ],
          "name": "stderr"
        }
      ]
    },
    {
      "cell_type": "code",
      "metadata": {
        "id": "qxmn-5jCPuPR",
        "colab_type": "code",
        "outputId": "7a0e25b6-42b5-4f33-da10-25da26e05094",
        "colab": {
          "base_uri": "https://localhost:8080/",
          "height": 1000
        }
      },
      "source": [
        "##################################\n",
        "# Include\n",
        "library(caret)\n",
        "library(tidyverse)\n",
        "library(randomForest)\n",
        "library(ggpubr)\n",
        "library(doParallel)\n",
        "library(dplyr)\n",
        "library(kernlab)\n",
        "library(gbm)\n",
        "library(ggplot2)\n",
        "library(e1071)\n",
        "library(ranger)"
      ],
      "execution_count": 0,
      "outputs": [
        {
          "output_type": "stream",
          "text": [
            "Loading required package: lattice\n",
            "\n",
            "Loading required package: ggplot2\n",
            "\n",
            "── \u001b[1mAttaching packages\u001b[22m ─────────────────────────────────────── tidyverse 1.3.0 ──\n",
            "\n",
            "\u001b[32m✔\u001b[39m \u001b[34mtibble \u001b[39m 2.1.3     \u001b[32m✔\u001b[39m \u001b[34mdplyr  \u001b[39m 0.8.3\n",
            "\u001b[32m✔\u001b[39m \u001b[34mtidyr  \u001b[39m 1.0.0     \u001b[32m✔\u001b[39m \u001b[34mstringr\u001b[39m 1.4.0\n",
            "\u001b[32m✔\u001b[39m \u001b[34mreadr  \u001b[39m 1.3.1     \u001b[32m✔\u001b[39m \u001b[34mforcats\u001b[39m 0.4.0\n",
            "\u001b[32m✔\u001b[39m \u001b[34mpurrr  \u001b[39m 0.3.3     \n",
            "\n",
            "── \u001b[1mConflicts\u001b[22m ────────────────────────────────────────── tidyverse_conflicts() ──\n",
            "\u001b[31m✖\u001b[39m \u001b[34mdplyr\u001b[39m::\u001b[32mfilter()\u001b[39m masks \u001b[34mstats\u001b[39m::filter()\n",
            "\u001b[31m✖\u001b[39m \u001b[34mdplyr\u001b[39m::\u001b[32mlag()\u001b[39m    masks \u001b[34mstats\u001b[39m::lag()\n",
            "\u001b[31m✖\u001b[39m \u001b[34mpurrr\u001b[39m::\u001b[32mlift()\u001b[39m   masks \u001b[34mcaret\u001b[39m::lift()\n",
            "\n",
            "randomForest 4.6-14\n",
            "\n",
            "Type rfNews() to see new features/changes/bug fixes.\n",
            "\n",
            "\n",
            "Attaching package: ‘randomForest’\n",
            "\n",
            "\n",
            "The following object is masked from ‘package:dplyr’:\n",
            "\n",
            "    combine\n",
            "\n",
            "\n",
            "The following object is masked from ‘package:ggplot2’:\n",
            "\n",
            "    margin\n",
            "\n",
            "\n",
            "Loading required package: magrittr\n",
            "\n",
            "\n",
            "Attaching package: ‘magrittr’\n",
            "\n",
            "\n",
            "The following object is masked from ‘package:purrr’:\n",
            "\n",
            "    set_names\n",
            "\n",
            "\n",
            "The following object is masked from ‘package:tidyr’:\n",
            "\n",
            "    extract\n",
            "\n",
            "\n",
            "Loading required package: foreach\n",
            "\n",
            "\n",
            "Attaching package: ‘foreach’\n",
            "\n",
            "\n",
            "The following objects are masked from ‘package:purrr’:\n",
            "\n",
            "    accumulate, when\n",
            "\n",
            "\n",
            "Loading required package: iterators\n",
            "\n",
            "Loading required package: parallel\n",
            "\n",
            "\n",
            "Attaching package: ‘kernlab’\n",
            "\n",
            "\n",
            "The following object is masked from ‘package:purrr’:\n",
            "\n",
            "    cross\n",
            "\n",
            "\n",
            "The following object is masked from ‘package:ggplot2’:\n",
            "\n",
            "    alpha\n",
            "\n",
            "\n",
            "Loaded gbm 2.1.5\n",
            "\n",
            "\n",
            "Attaching package: ‘ranger’\n",
            "\n",
            "\n",
            "The following object is masked from ‘package:randomForest’:\n",
            "\n",
            "    importance\n",
            "\n",
            "\n"
          ],
          "name": "stderr"
        }
      ]
    },
    {
      "cell_type": "code",
      "metadata": {
        "id": "zUDEX7W6PvjK",
        "colab_type": "code",
        "outputId": "ddbc1af3-e3b7-4047-fd8d-ff399a2055a2",
        "colab": {
          "base_uri": "https://localhost:8080/",
          "height": 35
        }
      },
      "source": [
        "###################################\n",
        "# Paralelismo\n",
        "parallel::detectCores()\n",
        "\n",
        "cl <- makePSOCKcluster(2)\n",
        "\n",
        "registerDoParallel(cl)"
      ],
      "execution_count": 0,
      "outputs": [
        {
          "output_type": "display_data",
          "data": {
            "text/plain": [
              "[1] 2"
            ],
            "text/latex": "2",
            "text/markdown": "2",
            "text/html": [
              "2"
            ]
          },
          "metadata": {
            "tags": []
          }
        }
      ]
    },
    {
      "cell_type": "code",
      "metadata": {
        "id": "nfy7TxqYP1pL",
        "colab_type": "code",
        "outputId": "f8606649-5fe8-4378-abb5-5ee795d58393",
        "colab": {
          "base_uri": "https://localhost:8080/",
          "height": 1000
        }
      },
      "source": [
        "####################################\n",
        "# Lectura de los datos\n",
        "datos_castillo <- read_csv(\"/content/final_dataset_castillodelromeral.csv\", \n",
        "    col_types = cols(.default = col_character()))\n",
        "datos_castillo %>% mutate_if(is.character, as.factor)"
      ],
      "execution_count": 0,
      "outputs": [
        {
          "output_type": "display_data",
          "data": {
            "text/plain": [
              "     Hora SO2 NO PM1.0 PM2.5 O3 CO  NO2\n",
              "1    1    3   13 67    23    33 0.1 34 \n",
              "2    2    3   6  71    21    35 0.1 32 \n",
              "3    3    4   5  15    19    36 0.1 27 \n",
              "4    4    5   4  47    22    31 0.1 35 \n",
              "5    5    3   5  66    13    44 0.1 22 \n",
              "6    6    3   4  43    13    46 0.1 19 \n",
              "7    7    3   6  18    8     14 0.1 52 \n",
              "8    8    3   8  16    13    25 0.1 41 \n",
              "9    9    3   10 52    18    46 0.1 23 \n",
              "10   10   4   15 42    13    46 0.1 26 \n",
              "11   11   3   7  38    13    61 0.1 13 \n",
              "12   12   3   5  28    9     69 0.1 7  \n",
              "13   13   3   5  27    13    71 0.1 6  \n",
              "14   14   3   5  38    12    73 0.1 7  \n",
              "15   15   3   5  42    11    78 0.1 6  \n",
              "16   16   3   5  25    12    76 0.1 8  \n",
              "17   17   3   5  19    11    82 0.1 7  \n",
              "18   18   4   5  22    13    62 0.1 20 \n",
              "19   19   4   5  19    11    45 0.1 27 \n",
              "20   20   3   5  18    12    46 0.1 24 \n",
              "21   21   3   5  21    11    34 0.1 36 \n",
              "22   22   4   6  4     4     30 0.1 36 \n",
              "23   23   3   6  4     9     42 0.1 18 \n",
              "24   24   3   6  95    32    39 0.1 30 \n",
              "25   1    3   4  43    8     44 0.1 29 \n",
              "26   2    3   5  10    9     54 0.1 17 \n",
              "27   3    3   5  20    11    51 0.1 21 \n",
              "28   4    3   5  17    9     46 0.1 23 \n",
              "29   5    3   5  14    11    50 0.1 20 \n",
              "30   6    3   5  18    11    56 0.1 13 \n",
              "⋮    ⋮    ⋮   ⋮  ⋮     ⋮     ⋮  ⋮   ⋮  \n",
              "8755 19   3   1  47    12    66 0.1 17 \n",
              "8756 20   3   1  47    12    76 0.1 9  \n",
              "8757 21   3   1  45    11    80 0.1 5  \n",
              "8758 22   3   1  46    16    79 0.1 6  \n",
              "8759 23   3   1  49    15    79 0.1 6  \n",
              "8760 24   3   1  45    14    79 0.1 5  \n",
              "8761 1    3   1  38    12    77 0.1 5  \n",
              "8762 2    3   1  32    10    74 0.1 5  \n",
              "8763 3    3   1  29    10    73 0.1 5  \n",
              "8764 4    3   1  24    8     69 0.1 6  \n",
              "8765 5    3   1  22    7     66 0.1 8  \n",
              "8766 6    3   1  21    8     60 0.1 13 \n",
              "8767 7    3   1  28    12    52 0.1 19 \n",
              "8768 8    3   1  34    15    50 0.1 20 \n",
              "8769 9    3   1  43    13    72 0.1 7  \n",
              "8770 10   3   1  42    13    78 0.1 3  \n",
              "8771 11   3   1  42    11    79 0.1 4  \n",
              "8772 12   3   1  41    9     79 0.1 4  \n",
              "8773 13   3   1  34    8     80 0.1 4  \n",
              "8774 14   3   1  42    9     80 0.1 4  \n",
              "8775 15   3   1  46    11    80 0.1 5  \n",
              "8776 16   3   1  50    13    80 0.1 4  \n",
              "8777 17   3   1  47    12    79 0.1 4  \n",
              "8778 18   3   1  43    12    68 0.1 9  \n",
              "8779 19   3   1  40    11    57 0.1 19 \n",
              "8780 20   3   1  49    15    64 0.1 12 \n",
              "8781 21   3   1  51    15    66 0.1 9  \n",
              "8782 22   3   1  56    19    68 0.1 9  \n",
              "8783 23   3   1  56    18    72 0.1 7  \n",
              "8784 24   3   1  53    16    74 0.1 7  "
            ],
            "text/latex": "A spec\\_tbl\\_df: 8784 × 8\n\\begin{tabular}{llllllll}\n Hora & SO2 & NO & PM1.0 & PM2.5 & O3 & CO & NO2\\\\\n <fct> & <fct> & <fct> & <fct> & <fct> & <fct> & <fct> & <fct>\\\\\n\\hline\n\t 1  & 3 & 13 & 67 & 23 & 33 & 0.1 & 34\\\\\n\t 2  & 3 & 6  & 71 & 21 & 35 & 0.1 & 32\\\\\n\t 3  & 4 & 5  & 15 & 19 & 36 & 0.1 & 27\\\\\n\t 4  & 5 & 4  & 47 & 22 & 31 & 0.1 & 35\\\\\n\t 5  & 3 & 5  & 66 & 13 & 44 & 0.1 & 22\\\\\n\t 6  & 3 & 4  & 43 & 13 & 46 & 0.1 & 19\\\\\n\t 7  & 3 & 6  & 18 & 8  & 14 & 0.1 & 52\\\\\n\t 8  & 3 & 8  & 16 & 13 & 25 & 0.1 & 41\\\\\n\t 9  & 3 & 10 & 52 & 18 & 46 & 0.1 & 23\\\\\n\t 10 & 4 & 15 & 42 & 13 & 46 & 0.1 & 26\\\\\n\t 11 & 3 & 7  & 38 & 13 & 61 & 0.1 & 13\\\\\n\t 12 & 3 & 5  & 28 & 9  & 69 & 0.1 & 7 \\\\\n\t 13 & 3 & 5  & 27 & 13 & 71 & 0.1 & 6 \\\\\n\t 14 & 3 & 5  & 38 & 12 & 73 & 0.1 & 7 \\\\\n\t 15 & 3 & 5  & 42 & 11 & 78 & 0.1 & 6 \\\\\n\t 16 & 3 & 5  & 25 & 12 & 76 & 0.1 & 8 \\\\\n\t 17 & 3 & 5  & 19 & 11 & 82 & 0.1 & 7 \\\\\n\t 18 & 4 & 5  & 22 & 13 & 62 & 0.1 & 20\\\\\n\t 19 & 4 & 5  & 19 & 11 & 45 & 0.1 & 27\\\\\n\t 20 & 3 & 5  & 18 & 12 & 46 & 0.1 & 24\\\\\n\t 21 & 3 & 5  & 21 & 11 & 34 & 0.1 & 36\\\\\n\t 22 & 4 & 6  & 4  & 4  & 30 & 0.1 & 36\\\\\n\t 23 & 3 & 6  & 4  & 9  & 42 & 0.1 & 18\\\\\n\t 24 & 3 & 6  & 95 & 32 & 39 & 0.1 & 30\\\\\n\t 1  & 3 & 4  & 43 & 8  & 44 & 0.1 & 29\\\\\n\t 2  & 3 & 5  & 10 & 9  & 54 & 0.1 & 17\\\\\n\t 3  & 3 & 5  & 20 & 11 & 51 & 0.1 & 21\\\\\n\t 4  & 3 & 5  & 17 & 9  & 46 & 0.1 & 23\\\\\n\t 5  & 3 & 5  & 14 & 11 & 50 & 0.1 & 20\\\\\n\t 6  & 3 & 5  & 18 & 11 & 56 & 0.1 & 13\\\\\n\t ⋮ & ⋮ & ⋮ & ⋮ & ⋮ & ⋮ & ⋮ & ⋮\\\\\n\t 19 & 3 & 1 & 47 & 12 & 66 & 0.1 & 17\\\\\n\t 20 & 3 & 1 & 47 & 12 & 76 & 0.1 & 9 \\\\\n\t 21 & 3 & 1 & 45 & 11 & 80 & 0.1 & 5 \\\\\n\t 22 & 3 & 1 & 46 & 16 & 79 & 0.1 & 6 \\\\\n\t 23 & 3 & 1 & 49 & 15 & 79 & 0.1 & 6 \\\\\n\t 24 & 3 & 1 & 45 & 14 & 79 & 0.1 & 5 \\\\\n\t 1  & 3 & 1 & 38 & 12 & 77 & 0.1 & 5 \\\\\n\t 2  & 3 & 1 & 32 & 10 & 74 & 0.1 & 5 \\\\\n\t 3  & 3 & 1 & 29 & 10 & 73 & 0.1 & 5 \\\\\n\t 4  & 3 & 1 & 24 & 8  & 69 & 0.1 & 6 \\\\\n\t 5  & 3 & 1 & 22 & 7  & 66 & 0.1 & 8 \\\\\n\t 6  & 3 & 1 & 21 & 8  & 60 & 0.1 & 13\\\\\n\t 7  & 3 & 1 & 28 & 12 & 52 & 0.1 & 19\\\\\n\t 8  & 3 & 1 & 34 & 15 & 50 & 0.1 & 20\\\\\n\t 9  & 3 & 1 & 43 & 13 & 72 & 0.1 & 7 \\\\\n\t 10 & 3 & 1 & 42 & 13 & 78 & 0.1 & 3 \\\\\n\t 11 & 3 & 1 & 42 & 11 & 79 & 0.1 & 4 \\\\\n\t 12 & 3 & 1 & 41 & 9  & 79 & 0.1 & 4 \\\\\n\t 13 & 3 & 1 & 34 & 8  & 80 & 0.1 & 4 \\\\\n\t 14 & 3 & 1 & 42 & 9  & 80 & 0.1 & 4 \\\\\n\t 15 & 3 & 1 & 46 & 11 & 80 & 0.1 & 5 \\\\\n\t 16 & 3 & 1 & 50 & 13 & 80 & 0.1 & 4 \\\\\n\t 17 & 3 & 1 & 47 & 12 & 79 & 0.1 & 4 \\\\\n\t 18 & 3 & 1 & 43 & 12 & 68 & 0.1 & 9 \\\\\n\t 19 & 3 & 1 & 40 & 11 & 57 & 0.1 & 19\\\\\n\t 20 & 3 & 1 & 49 & 15 & 64 & 0.1 & 12\\\\\n\t 21 & 3 & 1 & 51 & 15 & 66 & 0.1 & 9 \\\\\n\t 22 & 3 & 1 & 56 & 19 & 68 & 0.1 & 9 \\\\\n\t 23 & 3 & 1 & 56 & 18 & 72 & 0.1 & 7 \\\\\n\t 24 & 3 & 1 & 53 & 16 & 74 & 0.1 & 7 \\\\\n\\end{tabular}\n",
            "text/markdown": "\nA spec_tbl_df: 8784 × 8\n\n| Hora &lt;fct&gt; | SO2 &lt;fct&gt; | NO &lt;fct&gt; | PM1.0 &lt;fct&gt; | PM2.5 &lt;fct&gt; | O3 &lt;fct&gt; | CO &lt;fct&gt; | NO2 &lt;fct&gt; |\n|---|---|---|---|---|---|---|---|\n| 1  | 3 | 13 | 67 | 23 | 33 | 0.1 | 34 |\n| 2  | 3 | 6  | 71 | 21 | 35 | 0.1 | 32 |\n| 3  | 4 | 5  | 15 | 19 | 36 | 0.1 | 27 |\n| 4  | 5 | 4  | 47 | 22 | 31 | 0.1 | 35 |\n| 5  | 3 | 5  | 66 | 13 | 44 | 0.1 | 22 |\n| 6  | 3 | 4  | 43 | 13 | 46 | 0.1 | 19 |\n| 7  | 3 | 6  | 18 | 8  | 14 | 0.1 | 52 |\n| 8  | 3 | 8  | 16 | 13 | 25 | 0.1 | 41 |\n| 9  | 3 | 10 | 52 | 18 | 46 | 0.1 | 23 |\n| 10 | 4 | 15 | 42 | 13 | 46 | 0.1 | 26 |\n| 11 | 3 | 7  | 38 | 13 | 61 | 0.1 | 13 |\n| 12 | 3 | 5  | 28 | 9  | 69 | 0.1 | 7  |\n| 13 | 3 | 5  | 27 | 13 | 71 | 0.1 | 6  |\n| 14 | 3 | 5  | 38 | 12 | 73 | 0.1 | 7  |\n| 15 | 3 | 5  | 42 | 11 | 78 | 0.1 | 6  |\n| 16 | 3 | 5  | 25 | 12 | 76 | 0.1 | 8  |\n| 17 | 3 | 5  | 19 | 11 | 82 | 0.1 | 7  |\n| 18 | 4 | 5  | 22 | 13 | 62 | 0.1 | 20 |\n| 19 | 4 | 5  | 19 | 11 | 45 | 0.1 | 27 |\n| 20 | 3 | 5  | 18 | 12 | 46 | 0.1 | 24 |\n| 21 | 3 | 5  | 21 | 11 | 34 | 0.1 | 36 |\n| 22 | 4 | 6  | 4  | 4  | 30 | 0.1 | 36 |\n| 23 | 3 | 6  | 4  | 9  | 42 | 0.1 | 18 |\n| 24 | 3 | 6  | 95 | 32 | 39 | 0.1 | 30 |\n| 1  | 3 | 4  | 43 | 8  | 44 | 0.1 | 29 |\n| 2  | 3 | 5  | 10 | 9  | 54 | 0.1 | 17 |\n| 3  | 3 | 5  | 20 | 11 | 51 | 0.1 | 21 |\n| 4  | 3 | 5  | 17 | 9  | 46 | 0.1 | 23 |\n| 5  | 3 | 5  | 14 | 11 | 50 | 0.1 | 20 |\n| 6  | 3 | 5  | 18 | 11 | 56 | 0.1 | 13 |\n| ⋮ | ⋮ | ⋮ | ⋮ | ⋮ | ⋮ | ⋮ | ⋮ |\n| 19 | 3 | 1 | 47 | 12 | 66 | 0.1 | 17 |\n| 20 | 3 | 1 | 47 | 12 | 76 | 0.1 | 9  |\n| 21 | 3 | 1 | 45 | 11 | 80 | 0.1 | 5  |\n| 22 | 3 | 1 | 46 | 16 | 79 | 0.1 | 6  |\n| 23 | 3 | 1 | 49 | 15 | 79 | 0.1 | 6  |\n| 24 | 3 | 1 | 45 | 14 | 79 | 0.1 | 5  |\n| 1  | 3 | 1 | 38 | 12 | 77 | 0.1 | 5  |\n| 2  | 3 | 1 | 32 | 10 | 74 | 0.1 | 5  |\n| 3  | 3 | 1 | 29 | 10 | 73 | 0.1 | 5  |\n| 4  | 3 | 1 | 24 | 8  | 69 | 0.1 | 6  |\n| 5  | 3 | 1 | 22 | 7  | 66 | 0.1 | 8  |\n| 6  | 3 | 1 | 21 | 8  | 60 | 0.1 | 13 |\n| 7  | 3 | 1 | 28 | 12 | 52 | 0.1 | 19 |\n| 8  | 3 | 1 | 34 | 15 | 50 | 0.1 | 20 |\n| 9  | 3 | 1 | 43 | 13 | 72 | 0.1 | 7  |\n| 10 | 3 | 1 | 42 | 13 | 78 | 0.1 | 3  |\n| 11 | 3 | 1 | 42 | 11 | 79 | 0.1 | 4  |\n| 12 | 3 | 1 | 41 | 9  | 79 | 0.1 | 4  |\n| 13 | 3 | 1 | 34 | 8  | 80 | 0.1 | 4  |\n| 14 | 3 | 1 | 42 | 9  | 80 | 0.1 | 4  |\n| 15 | 3 | 1 | 46 | 11 | 80 | 0.1 | 5  |\n| 16 | 3 | 1 | 50 | 13 | 80 | 0.1 | 4  |\n| 17 | 3 | 1 | 47 | 12 | 79 | 0.1 | 4  |\n| 18 | 3 | 1 | 43 | 12 | 68 | 0.1 | 9  |\n| 19 | 3 | 1 | 40 | 11 | 57 | 0.1 | 19 |\n| 20 | 3 | 1 | 49 | 15 | 64 | 0.1 | 12 |\n| 21 | 3 | 1 | 51 | 15 | 66 | 0.1 | 9  |\n| 22 | 3 | 1 | 56 | 19 | 68 | 0.1 | 9  |\n| 23 | 3 | 1 | 56 | 18 | 72 | 0.1 | 7  |\n| 24 | 3 | 1 | 53 | 16 | 74 | 0.1 | 7  |\n\n",
            "text/html": [
              "<table>\n",
              "<caption>A spec_tbl_df: 8784 × 8</caption>\n",
              "<thead>\n",
              "\t<tr><th scope=col>Hora</th><th scope=col>SO2</th><th scope=col>NO</th><th scope=col>PM1.0</th><th scope=col>PM2.5</th><th scope=col>O3</th><th scope=col>CO</th><th scope=col>NO2</th></tr>\n",
              "\t<tr><th scope=col>&lt;fct&gt;</th><th scope=col>&lt;fct&gt;</th><th scope=col>&lt;fct&gt;</th><th scope=col>&lt;fct&gt;</th><th scope=col>&lt;fct&gt;</th><th scope=col>&lt;fct&gt;</th><th scope=col>&lt;fct&gt;</th><th scope=col>&lt;fct&gt;</th></tr>\n",
              "</thead>\n",
              "<tbody>\n",
              "\t<tr><td>1 </td><td>3</td><td>13</td><td>67</td><td>23</td><td>33</td><td>0.1</td><td>34</td></tr>\n",
              "\t<tr><td>2 </td><td>3</td><td>6 </td><td>71</td><td>21</td><td>35</td><td>0.1</td><td>32</td></tr>\n",
              "\t<tr><td>3 </td><td>4</td><td>5 </td><td>15</td><td>19</td><td>36</td><td>0.1</td><td>27</td></tr>\n",
              "\t<tr><td>4 </td><td>5</td><td>4 </td><td>47</td><td>22</td><td>31</td><td>0.1</td><td>35</td></tr>\n",
              "\t<tr><td>5 </td><td>3</td><td>5 </td><td>66</td><td>13</td><td>44</td><td>0.1</td><td>22</td></tr>\n",
              "\t<tr><td>6 </td><td>3</td><td>4 </td><td>43</td><td>13</td><td>46</td><td>0.1</td><td>19</td></tr>\n",
              "\t<tr><td>7 </td><td>3</td><td>6 </td><td>18</td><td>8 </td><td>14</td><td>0.1</td><td>52</td></tr>\n",
              "\t<tr><td>8 </td><td>3</td><td>8 </td><td>16</td><td>13</td><td>25</td><td>0.1</td><td>41</td></tr>\n",
              "\t<tr><td>9 </td><td>3</td><td>10</td><td>52</td><td>18</td><td>46</td><td>0.1</td><td>23</td></tr>\n",
              "\t<tr><td>10</td><td>4</td><td>15</td><td>42</td><td>13</td><td>46</td><td>0.1</td><td>26</td></tr>\n",
              "\t<tr><td>11</td><td>3</td><td>7 </td><td>38</td><td>13</td><td>61</td><td>0.1</td><td>13</td></tr>\n",
              "\t<tr><td>12</td><td>3</td><td>5 </td><td>28</td><td>9 </td><td>69</td><td>0.1</td><td>7 </td></tr>\n",
              "\t<tr><td>13</td><td>3</td><td>5 </td><td>27</td><td>13</td><td>71</td><td>0.1</td><td>6 </td></tr>\n",
              "\t<tr><td>14</td><td>3</td><td>5 </td><td>38</td><td>12</td><td>73</td><td>0.1</td><td>7 </td></tr>\n",
              "\t<tr><td>15</td><td>3</td><td>5 </td><td>42</td><td>11</td><td>78</td><td>0.1</td><td>6 </td></tr>\n",
              "\t<tr><td>16</td><td>3</td><td>5 </td><td>25</td><td>12</td><td>76</td><td>0.1</td><td>8 </td></tr>\n",
              "\t<tr><td>17</td><td>3</td><td>5 </td><td>19</td><td>11</td><td>82</td><td>0.1</td><td>7 </td></tr>\n",
              "\t<tr><td>18</td><td>4</td><td>5 </td><td>22</td><td>13</td><td>62</td><td>0.1</td><td>20</td></tr>\n",
              "\t<tr><td>19</td><td>4</td><td>5 </td><td>19</td><td>11</td><td>45</td><td>0.1</td><td>27</td></tr>\n",
              "\t<tr><td>20</td><td>3</td><td>5 </td><td>18</td><td>12</td><td>46</td><td>0.1</td><td>24</td></tr>\n",
              "\t<tr><td>21</td><td>3</td><td>5 </td><td>21</td><td>11</td><td>34</td><td>0.1</td><td>36</td></tr>\n",
              "\t<tr><td>22</td><td>4</td><td>6 </td><td>4 </td><td>4 </td><td>30</td><td>0.1</td><td>36</td></tr>\n",
              "\t<tr><td>23</td><td>3</td><td>6 </td><td>4 </td><td>9 </td><td>42</td><td>0.1</td><td>18</td></tr>\n",
              "\t<tr><td>24</td><td>3</td><td>6 </td><td>95</td><td>32</td><td>39</td><td>0.1</td><td>30</td></tr>\n",
              "\t<tr><td>1 </td><td>3</td><td>4 </td><td>43</td><td>8 </td><td>44</td><td>0.1</td><td>29</td></tr>\n",
              "\t<tr><td>2 </td><td>3</td><td>5 </td><td>10</td><td>9 </td><td>54</td><td>0.1</td><td>17</td></tr>\n",
              "\t<tr><td>3 </td><td>3</td><td>5 </td><td>20</td><td>11</td><td>51</td><td>0.1</td><td>21</td></tr>\n",
              "\t<tr><td>4 </td><td>3</td><td>5 </td><td>17</td><td>9 </td><td>46</td><td>0.1</td><td>23</td></tr>\n",
              "\t<tr><td>5 </td><td>3</td><td>5 </td><td>14</td><td>11</td><td>50</td><td>0.1</td><td>20</td></tr>\n",
              "\t<tr><td>6 </td><td>3</td><td>5 </td><td>18</td><td>11</td><td>56</td><td>0.1</td><td>13</td></tr>\n",
              "\t<tr><td>⋮</td><td>⋮</td><td>⋮</td><td>⋮</td><td>⋮</td><td>⋮</td><td>⋮</td><td>⋮</td></tr>\n",
              "\t<tr><td>19</td><td>3</td><td>1</td><td>47</td><td>12</td><td>66</td><td>0.1</td><td>17</td></tr>\n",
              "\t<tr><td>20</td><td>3</td><td>1</td><td>47</td><td>12</td><td>76</td><td>0.1</td><td>9 </td></tr>\n",
              "\t<tr><td>21</td><td>3</td><td>1</td><td>45</td><td>11</td><td>80</td><td>0.1</td><td>5 </td></tr>\n",
              "\t<tr><td>22</td><td>3</td><td>1</td><td>46</td><td>16</td><td>79</td><td>0.1</td><td>6 </td></tr>\n",
              "\t<tr><td>23</td><td>3</td><td>1</td><td>49</td><td>15</td><td>79</td><td>0.1</td><td>6 </td></tr>\n",
              "\t<tr><td>24</td><td>3</td><td>1</td><td>45</td><td>14</td><td>79</td><td>0.1</td><td>5 </td></tr>\n",
              "\t<tr><td>1 </td><td>3</td><td>1</td><td>38</td><td>12</td><td>77</td><td>0.1</td><td>5 </td></tr>\n",
              "\t<tr><td>2 </td><td>3</td><td>1</td><td>32</td><td>10</td><td>74</td><td>0.1</td><td>5 </td></tr>\n",
              "\t<tr><td>3 </td><td>3</td><td>1</td><td>29</td><td>10</td><td>73</td><td>0.1</td><td>5 </td></tr>\n",
              "\t<tr><td>4 </td><td>3</td><td>1</td><td>24</td><td>8 </td><td>69</td><td>0.1</td><td>6 </td></tr>\n",
              "\t<tr><td>5 </td><td>3</td><td>1</td><td>22</td><td>7 </td><td>66</td><td>0.1</td><td>8 </td></tr>\n",
              "\t<tr><td>6 </td><td>3</td><td>1</td><td>21</td><td>8 </td><td>60</td><td>0.1</td><td>13</td></tr>\n",
              "\t<tr><td>7 </td><td>3</td><td>1</td><td>28</td><td>12</td><td>52</td><td>0.1</td><td>19</td></tr>\n",
              "\t<tr><td>8 </td><td>3</td><td>1</td><td>34</td><td>15</td><td>50</td><td>0.1</td><td>20</td></tr>\n",
              "\t<tr><td>9 </td><td>3</td><td>1</td><td>43</td><td>13</td><td>72</td><td>0.1</td><td>7 </td></tr>\n",
              "\t<tr><td>10</td><td>3</td><td>1</td><td>42</td><td>13</td><td>78</td><td>0.1</td><td>3 </td></tr>\n",
              "\t<tr><td>11</td><td>3</td><td>1</td><td>42</td><td>11</td><td>79</td><td>0.1</td><td>4 </td></tr>\n",
              "\t<tr><td>12</td><td>3</td><td>1</td><td>41</td><td>9 </td><td>79</td><td>0.1</td><td>4 </td></tr>\n",
              "\t<tr><td>13</td><td>3</td><td>1</td><td>34</td><td>8 </td><td>80</td><td>0.1</td><td>4 </td></tr>\n",
              "\t<tr><td>14</td><td>3</td><td>1</td><td>42</td><td>9 </td><td>80</td><td>0.1</td><td>4 </td></tr>\n",
              "\t<tr><td>15</td><td>3</td><td>1</td><td>46</td><td>11</td><td>80</td><td>0.1</td><td>5 </td></tr>\n",
              "\t<tr><td>16</td><td>3</td><td>1</td><td>50</td><td>13</td><td>80</td><td>0.1</td><td>4 </td></tr>\n",
              "\t<tr><td>17</td><td>3</td><td>1</td><td>47</td><td>12</td><td>79</td><td>0.1</td><td>4 </td></tr>\n",
              "\t<tr><td>18</td><td>3</td><td>1</td><td>43</td><td>12</td><td>68</td><td>0.1</td><td>9 </td></tr>\n",
              "\t<tr><td>19</td><td>3</td><td>1</td><td>40</td><td>11</td><td>57</td><td>0.1</td><td>19</td></tr>\n",
              "\t<tr><td>20</td><td>3</td><td>1</td><td>49</td><td>15</td><td>64</td><td>0.1</td><td>12</td></tr>\n",
              "\t<tr><td>21</td><td>3</td><td>1</td><td>51</td><td>15</td><td>66</td><td>0.1</td><td>9 </td></tr>\n",
              "\t<tr><td>22</td><td>3</td><td>1</td><td>56</td><td>19</td><td>68</td><td>0.1</td><td>9 </td></tr>\n",
              "\t<tr><td>23</td><td>3</td><td>1</td><td>56</td><td>18</td><td>72</td><td>0.1</td><td>7 </td></tr>\n",
              "\t<tr><td>24</td><td>3</td><td>1</td><td>53</td><td>16</td><td>74</td><td>0.1</td><td>7 </td></tr>\n",
              "</tbody>\n",
              "</table>\n"
            ]
          },
          "metadata": {
            "tags": []
          }
        }
      ]
    },
    {
      "cell_type": "code",
      "metadata": {
        "id": "2tLy1gpyP2jV",
        "colab_type": "code",
        "outputId": "177538f6-c8f8-4712-f0f1-cb6d66ae9777",
        "colab": {
          "base_uri": "https://localhost:8080/",
          "height": 191
        }
      },
      "source": [
        "#####################################\n",
        "# Resumen de los datos\n",
        "glimpse(datos_castillo)"
      ],
      "execution_count": 0,
      "outputs": [
        {
          "output_type": "stream",
          "text": [
            "Observations: 8,784\n",
            "Variables: 8\n",
            "$ Hora  \u001b[3m\u001b[90m<chr>\u001b[39m\u001b[23m \"1\", \"2\", \"3\", \"4\", \"5\", \"6\", \"7\", \"8\", \"9\", \"10\", \"11\", \"12\", …\n",
            "$ SO2   \u001b[3m\u001b[90m<chr>\u001b[39m\u001b[23m \"3\", \"3\", \"4\", \"5\", \"3\", \"3\", \"3\", \"3\", \"3\", \"4\", \"3\", \"3\", \"3\"…\n",
            "$ NO    \u001b[3m\u001b[90m<chr>\u001b[39m\u001b[23m \"13\", \"6\", \"5\", \"4\", \"5\", \"4\", \"6\", \"8\", \"10\", \"15\", \"7\", \"5\", …\n",
            "$ PM1.0 \u001b[3m\u001b[90m<chr>\u001b[39m\u001b[23m \"67\", \"71\", \"15\", \"47\", \"66\", \"43\", \"18\", \"16\", \"52\", \"42\", \"38…\n",
            "$ PM2.5 \u001b[3m\u001b[90m<chr>\u001b[39m\u001b[23m \"23\", \"21\", \"19\", \"22\", \"13\", \"13\", \"8\", \"13\", \"18\", \"13\", \"13\"…\n",
            "$ O3    \u001b[3m\u001b[90m<chr>\u001b[39m\u001b[23m \"33\", \"35\", \"36\", \"31\", \"44\", \"46\", \"14\", \"25\", \"46\", \"46\", \"61…\n",
            "$ CO    \u001b[3m\u001b[90m<chr>\u001b[39m\u001b[23m \"0.1\", \"0.1\", \"0.1\", \"0.1\", \"0.1\", \"0.1\", \"0.1\", \"0.1\", \"0.1\", …\n",
            "$ NO2   \u001b[3m\u001b[90m<chr>\u001b[39m\u001b[23m \"34\", \"32\", \"27\", \"35\", \"22\", \"19\", \"52\", \"41\", \"23\", \"26\", \"13…\n"
          ],
          "name": "stdout"
        }
      ]
    },
    {
      "cell_type": "code",
      "metadata": {
        "id": "VJ-Wue22P8VE",
        "colab_type": "code",
        "colab": {}
      },
      "source": [
        "####################################\n",
        "# PREPROCESADO DE LOS DATOS\n",
        "####################################\n",
        "# Establecer NA de R\n",
        "datos_castillo$NO[datos_castillo$NO == \"N\"] <- NA\n",
        "datos_castillo$NO2[datos_castillo$NO2 == \"N\"] <- NA\n",
        "datos_castillo$PM1.0[datos_castillo$PM1.0 == \"N\"] <- NA\n",
        "datos_castillo$PM2.5[datos_castillo$PM2.5 == \"N\"] <- NA\n",
        "datos_castillo$O3[datos_castillo$O3 == \"N\"] <- NA\n",
        "datos_castillo$CO[datos_castillo$CO == \"N\"] <- NA\n",
        "datos_castillo$NO2[datos_castillo$NO2 == \"N\"] <- NA"
      ],
      "execution_count": 0,
      "outputs": []
    },
    {
      "cell_type": "code",
      "metadata": {
        "id": "UrXmThGTP_6d",
        "colab_type": "code",
        "outputId": "ef2f7ca9-01bf-417d-c778-90b2d8bc58cb",
        "colab": {
          "base_uri": "https://localhost:8080/",
          "height": 52
        }
      },
      "source": [
        "# Establecer todos los datos a numerico\n",
        "datos_castillo$Hora <- as.numeric(datos_castillo$Hora)\n",
        "datos_castillo$SO2 <- as.numeric(datos_castillo$SO2)\n",
        "datos_castillo$NO <- as.numeric(datos_castillo$NO)\n",
        "datos_castillo$PM1.0 <- as.numeric(datos_castillo$PM1.0)\n",
        "datos_castillo$PM2.5 <- as.numeric(datos_castillo$PM2.5)\n",
        "datos_castillo$O3 <- as.numeric(datos_castillo$O3)\n",
        "datos_castillo$CO <- as.numeric(datos_castillo$CO)\n",
        "datos_castillo$NO2 <- as.numeric(datos_castillo$NO2)"
      ],
      "execution_count": 0,
      "outputs": [
        {
          "output_type": "stream",
          "text": [
            "Warning message in eval(expr, envir, enclos):\n",
            "“NAs introduced by coercion”\n"
          ],
          "name": "stderr"
        }
      ]
    },
    {
      "cell_type": "code",
      "metadata": {
        "id": "hicxNxWJQA0Q",
        "colab_type": "code",
        "outputId": "ae6c61c2-8f00-4fd3-9679-46c31f58a0ba",
        "colab": {
          "base_uri": "https://localhost:8080/",
          "height": 208
        }
      },
      "source": [
        "####################################\n",
        "# Resumen de los datos\n",
        "glimpse(datos_castillo)\n",
        "\n",
        "# Obtener el numero de entradas\n",
        "nrow(datos_castillo)"
      ],
      "execution_count": 0,
      "outputs": [
        {
          "output_type": "stream",
          "text": [
            "Observations: 8,784\n",
            "Variables: 8\n",
            "$ Hora  \u001b[3m\u001b[90m<dbl>\u001b[39m\u001b[23m 1, 2, 3, 4, 5, 6, 7, 8, 9, 10, 11, 12, 13, 14, 15, 16, 17, 18, …\n",
            "$ SO2   \u001b[3m\u001b[90m<dbl>\u001b[39m\u001b[23m 3, 3, 4, 5, 3, 3, 3, 3, 3, 4, 3, 3, 3, 3, 3, 3, 3, 4, 4, 3, 3, …\n",
            "$ NO    \u001b[3m\u001b[90m<dbl>\u001b[39m\u001b[23m 13, 6, 5, 4, 5, 4, 6, 8, 10, 15, 7, 5, 5, 5, 5, 5, 5, 5, 5, 5, …\n",
            "$ PM1.0 \u001b[3m\u001b[90m<dbl>\u001b[39m\u001b[23m 67, 71, 15, 47, 66, 43, 18, 16, 52, 42, 38, 28, 27, 38, 42, 25,…\n",
            "$ PM2.5 \u001b[3m\u001b[90m<dbl>\u001b[39m\u001b[23m 23, 21, 19, 22, 13, 13, 8, 13, 18, 13, 13, 9, 13, 12, 11, 12, 1…\n",
            "$ O3    \u001b[3m\u001b[90m<dbl>\u001b[39m\u001b[23m 33, 35, 36, 31, 44, 46, 14, 25, 46, 46, 61, 69, 71, 73, 78, 76,…\n",
            "$ CO    \u001b[3m\u001b[90m<dbl>\u001b[39m\u001b[23m 0.1, 0.1, 0.1, 0.1, 0.1, 0.1, 0.1, 0.1, 0.1, 0.1, 0.1, 0.1, 0.1…\n",
            "$ NO2   \u001b[3m\u001b[90m<dbl>\u001b[39m\u001b[23m 34, 32, 27, 35, 22, 19, 52, 41, 23, 26, 13, 7, 6, 7, 6, 8, 7, 2…\n"
          ],
          "name": "stdout"
        },
        {
          "output_type": "display_data",
          "data": {
            "text/plain": [
              "[1] 8784"
            ],
            "text/latex": "8784",
            "text/markdown": "8784",
            "text/html": [
              "8784"
            ]
          },
          "metadata": {
            "tags": []
          }
        }
      ]
    },
    {
      "cell_type": "code",
      "metadata": {
        "id": "kgne4o02QCm3",
        "colab_type": "code",
        "outputId": "0ee656e9-a9b3-4b42-c949-0e0a86474bd9",
        "colab": {
          "base_uri": "https://localhost:8080/",
          "height": 340
        }
      },
      "source": [
        "####################################\n",
        "# Comprobar si hay alguna fila incompleta\n",
        "any(!complete.cases(datos_castillo))\n",
        "\n",
        "# Numero de datos ausentes por variable\n",
        "map_dbl(datos_castillo, .f = function(x){sum(is.na(x))})"
      ],
      "execution_count": 0,
      "outputs": [
        {
          "output_type": "display_data",
          "data": {
            "text/plain": [
              "[1] TRUE"
            ],
            "text/latex": "TRUE",
            "text/markdown": "TRUE",
            "text/html": [
              "TRUE"
            ]
          },
          "metadata": {
            "tags": []
          }
        },
        {
          "output_type": "display_data",
          "data": {
            "text/plain": [
              " Hora   SO2    NO PM1.0 PM2.5    O3    CO   NO2 \n",
              "    0    19    22   119    86   115    13    22 "
            ],
            "text/latex": "\\begin{description*}\n\\item[Hora] 0\n\\item[SO2] 19\n\\item[NO] 22\n\\item[PM1.0] 119\n\\item[PM2.5] 86\n\\item[O3] 115\n\\item[CO] 13\n\\item[NO2] 22\n\\end{description*}\n",
            "text/markdown": "Hora\n:   0SO2\n:   19NO\n:   22PM1.0\n:   119PM2.5\n:   86O3\n:   115CO\n:   13NO2\n:   22\n\n",
            "text/html": [
              "<dl class=dl-horizontal>\n",
              "\t<dt>Hora</dt>\n",
              "\t\t<dd>0</dd>\n",
              "\t<dt>SO2</dt>\n",
              "\t\t<dd>19</dd>\n",
              "\t<dt>NO</dt>\n",
              "\t\t<dd>22</dd>\n",
              "\t<dt>PM1.0</dt>\n",
              "\t\t<dd>119</dd>\n",
              "\t<dt>PM2.5</dt>\n",
              "\t\t<dd>86</dd>\n",
              "\t<dt>O3</dt>\n",
              "\t\t<dd>115</dd>\n",
              "\t<dt>CO</dt>\n",
              "\t\t<dd>13</dd>\n",
              "\t<dt>NO2</dt>\n",
              "\t\t<dd>22</dd>\n",
              "</dl>\n"
            ]
          },
          "metadata": {
            "tags": []
          }
        }
      ]
    },
    {
      "cell_type": "code",
      "metadata": {
        "id": "pxtFFIccQHqS",
        "colab_type": "code",
        "colab": {}
      },
      "source": [
        "####################################\n",
        "#Para eliminar las filas con valor nulo en la clase\n",
        "datos_castillo <- datos_castillo[!is.na(datos_castillo$NO2),]\n",
        "datos_castillo <- datos_castillo[!is.na(datos_castillo$NO),]\n",
        "datos_castillo <- datos_castillo[!is.na(datos_castillo$PM1.0),]\n",
        "datos_castillo <- datos_castillo[!is.na(datos_castillo$PM2.5),]\n",
        "datos_castillo <- datos_castillo[!is.na(datos_castillo$O3),]\n",
        "datos_castillo <- datos_castillo[!is.na(datos_castillo$CO),]\n",
        "datos_castillo <- datos_castillo[!is.na(datos_castillo$SO2),]"
      ],
      "execution_count": 0,
      "outputs": []
    },
    {
      "cell_type": "code",
      "metadata": {
        "id": "esa_010uQHhx",
        "colab_type": "code",
        "outputId": "1dd03055-8a01-4126-a1e0-4886a9c57946",
        "colab": {
          "base_uri": "https://localhost:8080/",
          "height": 340
        }
      },
      "source": [
        "####################################\n",
        "# Numero de datos ausentes por variable\n",
        "map_dbl(datos_castillo, .f = function(x){sum(is.na(x))})\n",
        "\n",
        "# Obtener el numero de entradas\n",
        "nrow(datos_castillo)"
      ],
      "execution_count": 0,
      "outputs": [
        {
          "output_type": "display_data",
          "data": {
            "text/plain": [
              " Hora   SO2    NO PM1.0 PM2.5    O3    CO   NO2 \n",
              "    0     0     0     0     0     0     0     0 "
            ],
            "text/latex": "\\begin{description*}\n\\item[Hora] 0\n\\item[SO2] 0\n\\item[NO] 0\n\\item[PM1.0] 0\n\\item[PM2.5] 0\n\\item[O3] 0\n\\item[CO] 0\n\\item[NO2] 0\n\\end{description*}\n",
            "text/markdown": "Hora\n:   0SO2\n:   0NO\n:   0PM1.0\n:   0PM2.5\n:   0O3\n:   0CO\n:   0NO2\n:   0\n\n",
            "text/html": [
              "<dl class=dl-horizontal>\n",
              "\t<dt>Hora</dt>\n",
              "\t\t<dd>0</dd>\n",
              "\t<dt>SO2</dt>\n",
              "\t\t<dd>0</dd>\n",
              "\t<dt>NO</dt>\n",
              "\t\t<dd>0</dd>\n",
              "\t<dt>PM1.0</dt>\n",
              "\t\t<dd>0</dd>\n",
              "\t<dt>PM2.5</dt>\n",
              "\t\t<dd>0</dd>\n",
              "\t<dt>O3</dt>\n",
              "\t\t<dd>0</dd>\n",
              "\t<dt>CO</dt>\n",
              "\t\t<dd>0</dd>\n",
              "\t<dt>NO2</dt>\n",
              "\t\t<dd>0</dd>\n",
              "</dl>\n"
            ]
          },
          "metadata": {
            "tags": []
          }
        },
        {
          "output_type": "display_data",
          "data": {
            "text/plain": [
              "[1] 8511"
            ],
            "text/latex": "8511",
            "text/markdown": "8511",
            "text/html": [
              "8511"
            ]
          },
          "metadata": {
            "tags": []
          }
        }
      ]
    },
    {
      "cell_type": "code",
      "metadata": {
        "id": "jPUI3e_uQLiT",
        "colab_type": "code",
        "outputId": "21ba449d-6f31-4660-d543-5c781d862d08",
        "colab": {
          "base_uri": "https://localhost:8080/",
          "height": 323
        }
      },
      "source": [
        "####################################\n",
        "# Identificar que variables contienen valores \"\"\n",
        "datos_castillo %>% map_lgl(.f = function(x){any(!is.na(x) & x == \"\")})"
      ],
      "execution_count": 0,
      "outputs": [
        {
          "output_type": "display_data",
          "data": {
            "text/plain": [
              " Hora   SO2    NO PM1.0 PM2.5    O3    CO   NO2 \n",
              "FALSE FALSE FALSE FALSE FALSE FALSE FALSE FALSE "
            ],
            "text/latex": "\\begin{description*}\n\\item[Hora] FALSE\n\\item[SO2] FALSE\n\\item[NO] FALSE\n\\item[PM1.0] FALSE\n\\item[PM2.5] FALSE\n\\item[O3] FALSE\n\\item[CO] FALSE\n\\item[NO2] FALSE\n\\end{description*}\n",
            "text/markdown": "Hora\n:   FALSESO2\n:   FALSENO\n:   FALSEPM1.0\n:   FALSEPM2.5\n:   FALSEO3\n:   FALSECO\n:   FALSENO2\n:   FALSE\n\n",
            "text/html": [
              "<dl class=dl-horizontal>\n",
              "\t<dt>Hora</dt>\n",
              "\t\t<dd>FALSE</dd>\n",
              "\t<dt>SO2</dt>\n",
              "\t\t<dd>FALSE</dd>\n",
              "\t<dt>NO</dt>\n",
              "\t\t<dd>FALSE</dd>\n",
              "\t<dt>PM1.0</dt>\n",
              "\t\t<dd>FALSE</dd>\n",
              "\t<dt>PM2.5</dt>\n",
              "\t\t<dd>FALSE</dd>\n",
              "\t<dt>O3</dt>\n",
              "\t\t<dd>FALSE</dd>\n",
              "\t<dt>CO</dt>\n",
              "\t\t<dd>FALSE</dd>\n",
              "\t<dt>NO2</dt>\n",
              "\t\t<dd>FALSE</dd>\n",
              "</dl>\n"
            ]
          },
          "metadata": {
            "tags": []
          }
        }
      ]
    },
    {
      "cell_type": "code",
      "metadata": {
        "id": "qXLTR0K8QPqW",
        "colab_type": "code",
        "outputId": "42d83ec7-adcd-4ae8-ccba-e77fd0b2a7b8",
        "colab": {
          "base_uri": "https://localhost:8080/",
          "height": 99
        }
      },
      "source": [
        "# Mirar la varianza de Class\n",
        "#Los predictores con cero-varianza o con varianza próxima a cero no se deben incluir\n",
        "#pues no aportan información, ya que estos predictores toman solo unos pocos valores\n",
        "#que algunos aparecen con poca frecuencia.\n",
        "datos_castillo %>% select(NO2) %>% nearZeroVar(saveMetrics = TRUE)"
      ],
      "execution_count": 0,
      "outputs": [
        {
          "output_type": "display_data",
          "data": {
            "text/plain": [
              "    freqRatio percentUnique zeroVar nzv  \n",
              "NO2 1.003515  0.7167195     FALSE   FALSE"
            ],
            "text/latex": "A data.frame: 1 × 4\n\\begin{tabular}{r|llll}\n  & freqRatio & percentUnique & zeroVar & nzv\\\\\n  & <dbl> & <dbl> & <lgl> & <lgl>\\\\\n\\hline\n\tNO2 & 1.003515 & 0.7167195 & FALSE & FALSE\\\\\n\\end{tabular}\n",
            "text/markdown": "\nA data.frame: 1 × 4\n\n| <!--/--> | freqRatio &lt;dbl&gt; | percentUnique &lt;dbl&gt; | zeroVar &lt;lgl&gt; | nzv &lt;lgl&gt; |\n|---|---|---|---|---|\n| NO2 | 1.003515 | 0.7167195 | FALSE | FALSE |\n\n",
            "text/html": [
              "<table>\n",
              "<caption>A data.frame: 1 × 4</caption>\n",
              "<thead>\n",
              "\t<tr><th></th><th scope=col>freqRatio</th><th scope=col>percentUnique</th><th scope=col>zeroVar</th><th scope=col>nzv</th></tr>\n",
              "\t<tr><th></th><th scope=col>&lt;dbl&gt;</th><th scope=col>&lt;dbl&gt;</th><th scope=col>&lt;lgl&gt;</th><th scope=col>&lt;lgl&gt;</th></tr>\n",
              "</thead>\n",
              "<tbody>\n",
              "\t<tr><th scope=row>NO2</th><td>1.003515</td><td>0.7167195</td><td>FALSE</td><td>FALSE</td></tr>\n",
              "</tbody>\n",
              "</table>\n"
            ]
          },
          "metadata": {
            "tags": []
          }
        }
      ]
    },
    {
      "cell_type": "code",
      "metadata": {
        "id": "P7cal505QRED",
        "colab_type": "code",
        "colab": {}
      },
      "source": [
        "####################################\n",
        "# Division de los datos en entrenamiento y testeo\n",
        "\n",
        "set.seed(123)"
      ],
      "execution_count": 0,
      "outputs": []
    },
    {
      "cell_type": "code",
      "metadata": {
        "id": "POcPebepQUjz",
        "colab_type": "code",
        "colab": {}
      },
      "source": [
        "# Se crean los indices de las observaciones de entrenamiento\n",
        "train <- createDataPartition(y = datos_castillo$NO2, p = 0.8, list = FALSE, times = 1)\n",
        "   \n",
        "datos_train <- datos_castillo[train, ]\n",
        "datos_test  <- datos_castillo[-train, ]"
      ],
      "execution_count": 0,
      "outputs": []
    },
    {
      "cell_type": "code",
      "metadata": {
        "id": "8lj24oHOQcBD",
        "colab_type": "code",
        "outputId": "3562e73c-337d-4c5e-d872-034dca9efb5a",
        "colab": {
          "base_uri": "https://localhost:8080/",
          "height": 364
        }
      },
      "source": [
        "#####################################\n",
        "#         RANDOM FOREST             #\n",
        "#####################################\n",
        "\n",
        "##################################\n",
        "# 1.\n",
        "# Metodo de entrenamiento repeatedcv sobre randomForest\n",
        "#\n",
        "# repeatedcv: permite hacer repeticiones\n",
        "# trainControl: Controla los matices de calculo de la funcion train\n",
        "# tuneLength: El parametro le dice al algoritmo que pruebe diferentes valores predeterminados\n",
        "#   para el parametro principal\n",
        "# repeats: numero de iteraciones de remuestreo\n",
        "# metric: RMSE (Raiz del error cuadratico medio)\n",
        "#\n",
        "set.seed(123)\n",
        "tc <- trainControl(method=\"repeatedcv\",\n",
        "                  number=8,\n",
        "                  repeats=4,\n",
        "                  verboseIter = FALSE,\n",
        "                  allowParallel = TRUE)\n",
        "modelo <- train(NO2~.,\n",
        "                data=datos_train ,\n",
        "                method='rf',\n",
        "                trControl=tc,\n",
        "                tuneLength=6,\n",
        "                importance=TRUE,\n",
        "                metric='RMSE')\n",
        "modelo"
      ],
      "execution_count": 0,
      "outputs": [
        {
          "output_type": "display_data",
          "data": {
            "text/plain": [
              "Random Forest \n",
              "\n",
              "6811 samples\n",
              "   7 predictor\n",
              "\n",
              "No pre-processing\n",
              "Resampling: Cross-Validated (8 fold, repeated 4 times) \n",
              "Summary of sample sizes: 5960, 5960, 5961, 5959, 5959, 5958, ... \n",
              "Resampling results across tuning parameters:\n",
              "\n",
              "  mtry  RMSE      Rsquared   MAE     \n",
              "  2     4.515748  0.6734158  3.114337\n",
              "  3     4.511609  0.6681854  3.089219\n",
              "  4     4.543505  0.6623907  3.103661\n",
              "  5     4.563794  0.6590809  3.113343\n",
              "  6     4.583344  0.6560488  3.126219\n",
              "  7     4.597303  0.6538754  3.134312\n",
              "\n",
              "RMSE was used to select the optimal model using the smallest value.\n",
              "The final value used for the model was mtry = 3."
            ]
          },
          "metadata": {
            "tags": []
          }
        }
      ]
    },
    {
      "cell_type": "code",
      "metadata": {
        "id": "rq80zzIIlSYh",
        "colab_type": "code",
        "outputId": "33377267-87eb-4365-c81e-87919e8ac5f0",
        "colab": {
          "base_uri": "https://localhost:8080/",
          "height": 437
        }
      },
      "source": [
        "####################################\n",
        "# Grafica\n",
        "ggplot(modelo, highlight = TRUE) +\n",
        "  scale_x_continuous(breaks = 1:30) +\n",
        "  labs(title = \"Evolución del RMSE del modelo Random Forest con repeatedCV\") +\n",
        "  guides(color = guide_legend(title = \"mtry\"),\n",
        "         shape = guide_legend(title = \"mtry\")) +\n",
        "  theme_bw()"
      ],
      "execution_count": 0,
      "outputs": [
        {
          "output_type": "display_data",
          "data": {
            "image/png": "[encoded data removed]",
            "text/plain": [
              "plot without title"
            ]
          },
          "metadata": {
            "tags": [],
            "image/png": {
              "width": 420,
              "height": 420
            },
            "text/plain": {
              "width": 420,
              "height": 420
            }
          }
        }
      ]
    },
    {
      "cell_type": "code",
      "metadata": {
        "id": "k0p0PNyBQdKl",
        "colab_type": "code",
        "outputId": "491a2f05-7271-4052-fc2c-4d91b37890fa",
        "colab": {
          "base_uri": "https://localhost:8080/",
          "height": 347
        }
      },
      "source": [
        "# Vista de la importancia\n",
        "#\n",
        "# finalModel: muestra el tipo de modelo creado, el valor de los hiperparametros \n",
        "#    e información adicional\n",
        "#\n",
        "varImp(modelo)\n",
        "modelo$finalModel"
      ],
      "execution_count": 0,
      "outputs": [
        {
          "output_type": "display_data",
          "data": {
            "text/plain": [
              "rf variable importance\n",
              "\n",
              "      Overall\n",
              "O3    100.000\n",
              "NO     39.163\n",
              "PM2.5  29.078\n",
              "Hora   24.091\n",
              "SO2    12.623\n",
              "PM1.0   6.001\n",
              "CO      0.000"
            ]
          },
          "metadata": {
            "tags": []
          }
        },
        {
          "output_type": "display_data",
          "data": {
            "text/plain": [
              "\n",
              "Call:\n",
              " randomForest(x = x, y = y, mtry = param$mtry, importance = TRUE) \n",
              "               Type of random forest: regression\n",
              "                     Number of trees: 500\n",
              "No. of variables tried at each split: 3\n",
              "\n",
              "          Mean of squared residuals: 20.27368\n",
              "                    % Var explained: 66.82"
            ]
          },
          "metadata": {
            "tags": []
          }
        }
      ]
    },
    {
      "cell_type": "code",
      "metadata": {
        "id": "OULzCW6JQgRY",
        "colab_type": "code",
        "outputId": "c781fd8a-e3a0-4b27-ef3e-7f3c04fe9c0e",
        "colab": {
          "base_uri": "https://localhost:8080/",
          "height": 99
        }
      },
      "source": [
        "# Valores metricas\n",
        "#\n",
        "# getTrainPerf: proporciona los resultados de rendimiento promedio de \n",
        "#   los mejores parametros ajustados promediados en los pliegues de \n",
        "#   validaciones cruzadas repetidas\n",
        "#\n",
        "getTrainPerf(modelo)"
      ],
      "execution_count": 0,
      "outputs": [
        {
          "output_type": "display_data",
          "data": {
            "text/plain": [
              "  TrainRMSE TrainRsquared TrainMAE method\n",
              "1 4.511609  0.6681854     3.089219 rf    "
            ],
            "text/latex": "A data.frame: 1 × 4\n\\begin{tabular}{llll}\n TrainRMSE & TrainRsquared & TrainMAE & method\\\\\n <dbl> & <dbl> & <dbl> & <chr>\\\\\n\\hline\n\t 4.511609 & 0.6681854 & 3.089219 & rf\\\\\n\\end{tabular}\n",
            "text/markdown": "\nA data.frame: 1 × 4\n\n| TrainRMSE &lt;dbl&gt; | TrainRsquared &lt;dbl&gt; | TrainMAE &lt;dbl&gt; | method &lt;chr&gt; |\n|---|---|---|---|\n| 4.511609 | 0.6681854 | 3.089219 | rf |\n\n",
            "text/html": [
              "<table>\n",
              "<caption>A data.frame: 1 × 4</caption>\n",
              "<thead>\n",
              "\t<tr><th scope=col>TrainRMSE</th><th scope=col>TrainRsquared</th><th scope=col>TrainMAE</th><th scope=col>method</th></tr>\n",
              "\t<tr><th scope=col>&lt;dbl&gt;</th><th scope=col>&lt;dbl&gt;</th><th scope=col>&lt;dbl&gt;</th><th scope=col>&lt;chr&gt;</th></tr>\n",
              "</thead>\n",
              "<tbody>\n",
              "\t<tr><td>4.511609</td><td>0.6681854</td><td>3.089219</td><td>rf</td></tr>\n",
              "</tbody>\n",
              "</table>\n"
            ]
          },
          "metadata": {
            "tags": []
          }
        }
      ]
    },
    {
      "cell_type": "code",
      "metadata": {
        "id": "GHqSmg6GQiz7",
        "colab_type": "code",
        "outputId": "afaf764d-c59a-424d-b582-7e67c9ea69e6",
        "colab": {
          "base_uri": "https://localhost:8080/",
          "height": 149
        }
      },
      "source": [
        "# Evaluar modelo\n",
        "#\n",
        "# predict: Hacer un objeto con predicciones de un objeto modelo ajustado\n",
        "#     a un entrenamiento previo\n",
        "# postResample: Dados dos vectores numericos de datos, se calculan el error \n",
        "#     cuadratico medio y el R cuadrado\n",
        "#\n",
        "set.seed(123)\n",
        "modelo_pred <- predict(modelo, \n",
        "                       newdata = datos_test ) \n",
        "postResample(modelo_pred, \n",
        "             datos_test$NO2)"
      ],
      "execution_count": 0,
      "outputs": [
        {
          "output_type": "display_data",
          "data": {
            "text/plain": [
              "     RMSE  Rsquared       MAE \n",
              "4.3473120 0.6753831 3.0490213 "
            ],
            "text/latex": "\\begin{description*}\n\\item[RMSE] 4.34731202486054\n\\item[Rsquared] 0.675383128446602\n\\item[MAE] 3.04902130437192\n\\end{description*}\n",
            "text/markdown": "RMSE\n:   4.34731202486054Rsquared\n:   0.675383128446602MAE\n:   3.04902130437192\n\n",
            "text/html": [
              "<dl class=dl-horizontal>\n",
              "\t<dt>RMSE</dt>\n",
              "\t\t<dd>4.34731202486054</dd>\n",
              "\t<dt>Rsquared</dt>\n",
              "\t\t<dd>0.675383128446602</dd>\n",
              "\t<dt>MAE</dt>\n",
              "\t\t<dd>3.04902130437192</dd>\n",
              "</dl>\n"
            ]
          },
          "metadata": {
            "tags": []
          }
        }
      ]
    },
    {
      "cell_type": "code",
      "metadata": {
        "id": "1ml8GyCKQlI1",
        "colab_type": "code",
        "outputId": "fd156576-b62a-493f-c00d-e206c71a65c3",
        "colab": {
          "base_uri": "https://localhost:8080/",
          "height": 329
        }
      },
      "source": [
        "####################################\n",
        "# 2.\n",
        "# Metodo de entrenamiento oob sobre randomForest\n",
        "# \n",
        "# oob: es un método para medir el error de predicción de randomForest\n",
        "#\n",
        "set.seed(123)\n",
        "tc <- trainControl(\"oob\",\n",
        "                   number=8,\n",
        "                   verboseIter = FALSE,\n",
        "                   allowParallel = TRUE)\n",
        "modelo <- train(NO2~.,\n",
        "                data=datos_train,\n",
        "                method='rf',\n",
        "                trControl=tc,\n",
        "                tuneLength=6,\n",
        "                importance=TRUE,\n",
        "                metric='RMSE')\n",
        "modelo"
      ],
      "execution_count": 0,
      "outputs": [
        {
          "output_type": "display_data",
          "data": {
            "text/plain": [
              "Random Forest \n",
              "\n",
              "6811 samples\n",
              "   7 predictor\n",
              "\n",
              "No pre-processing\n",
              "Resampling results across tuning parameters:\n",
              "\n",
              "  mtry  RMSE      Rsquared \n",
              "  2     4.500362  0.6685671\n",
              "  3     4.502866  0.6681980\n",
              "  4     4.527538  0.6645522\n",
              "  5     4.556288  0.6602783\n",
              "  6     4.576470  0.6572621\n",
              "  7     4.584086  0.6561204\n",
              "\n",
              "RMSE was used to select the optimal model using the smallest value.\n",
              "The final value used for the model was mtry = 2."
            ]
          },
          "metadata": {
            "tags": []
          }
        }
      ]
    },
    {
      "cell_type": "code",
      "metadata": {
        "id": "P-e_-Ajbw42O",
        "colab_type": "code",
        "outputId": "d78b1032-93a3-44b4-b027-e4ebc4c7b4dc",
        "colab": {
          "base_uri": "https://localhost:8080/",
          "height": 437
        }
      },
      "source": [
        "####################################\n",
        "# Grafica\n",
        "ggplot(modelo, highlight = TRUE) +\n",
        "  scale_x_continuous(breaks = 1:30) +\n",
        "  labs(title = \"Evolución del RMSE del modelo Random Forest con oob\") +\n",
        "  guides(color = guide_legend(title = \"mtry\"),\n",
        "         shape = guide_legend(title = \"mtry\")) +\n",
        "  theme_bw()"
      ],
      "execution_count": 0,
      "outputs": [
        {
          "output_type": "display_data",
          "data": {
            "image/png": "[encoded data removed]",
            "text/plain": [
              "plot without title"
            ]
          },
          "metadata": {
            "tags": [],
            "image/png": {
              "width": 420,
              "height": 420
            },
            "text/plain": {
              "width": 420,
              "height": 420
            }
          }
        }
      ]
    },
    {
      "cell_type": "code",
      "metadata": {
        "id": "qEp467grQoYc",
        "colab_type": "code",
        "outputId": "63699b23-9049-4a3f-a7af-ef27e2f77e6a",
        "colab": {
          "base_uri": "https://localhost:8080/",
          "height": 347
        }
      },
      "source": [
        "# Vista de la importancia\n",
        "#\n",
        "varImp(modelo)\n",
        "modelo$finalModel"
      ],
      "execution_count": 0,
      "outputs": [
        {
          "output_type": "display_data",
          "data": {
            "text/plain": [
              "rf variable importance\n",
              "\n",
              "      Overall\n",
              "O3     100.00\n",
              "NO      49.46\n",
              "PM2.5   42.69\n",
              "Hora    28.04\n",
              "SO2     20.88\n",
              "PM1.0   12.98\n",
              "CO       0.00"
            ]
          },
          "metadata": {
            "tags": []
          }
        },
        {
          "output_type": "display_data",
          "data": {
            "text/plain": [
              "\n",
              "Call:\n",
              " randomForest(x = x, y = y, mtry = param$mtry, importance = TRUE) \n",
              "               Type of random forest: regression\n",
              "                     Number of trees: 500\n",
              "No. of variables tried at each split: 2\n",
              "\n",
              "          Mean of squared residuals: 20.22154\n",
              "                    % Var explained: 66.91"
            ]
          },
          "metadata": {
            "tags": []
          }
        }
      ]
    },
    {
      "cell_type": "code",
      "metadata": {
        "id": "yrBrOvK6QqWK",
        "colab_type": "code",
        "outputId": "f7be1e9a-fd9e-49cf-b369-74376cee2404",
        "colab": {
          "base_uri": "https://localhost:8080/",
          "height": 99
        }
      },
      "source": [
        "# Valores metricas\n",
        "#\n",
        "getTrainPerf(modelo)"
      ],
      "execution_count": 0,
      "outputs": [
        {
          "output_type": "display_data",
          "data": {
            "text/plain": [
              "  TrainRMSE TrainRsquared TrainMAE method\n",
              "1 4.540839  0.6564286     3.146157 rf    "
            ],
            "text/latex": "A data.frame: 1 × 4\n\\begin{tabular}{llll}\n TrainRMSE & TrainRsquared & TrainMAE & method\\\\\n <dbl> & <dbl> & <dbl> & <chr>\\\\\n\\hline\n\t 4.540839 & 0.6564286 & 3.146157 & rf\\\\\n\\end{tabular}\n",
            "text/markdown": "\nA data.frame: 1 × 4\n\n| TrainRMSE &lt;dbl&gt; | TrainRsquared &lt;dbl&gt; | TrainMAE &lt;dbl&gt; | method &lt;chr&gt; |\n|---|---|---|---|\n| 4.540839 | 0.6564286 | 3.146157 | rf |\n\n",
            "text/html": [
              "<table>\n",
              "<caption>A data.frame: 1 × 4</caption>\n",
              "<thead>\n",
              "\t<tr><th scope=col>TrainRMSE</th><th scope=col>TrainRsquared</th><th scope=col>TrainMAE</th><th scope=col>method</th></tr>\n",
              "\t<tr><th scope=col>&lt;dbl&gt;</th><th scope=col>&lt;dbl&gt;</th><th scope=col>&lt;dbl&gt;</th><th scope=col>&lt;chr&gt;</th></tr>\n",
              "</thead>\n",
              "<tbody>\n",
              "\t<tr><td>4.540839</td><td>0.6564286</td><td>3.146157</td><td>rf</td></tr>\n",
              "</tbody>\n",
              "</table>\n"
            ]
          },
          "metadata": {
            "tags": []
          }
        }
      ]
    },
    {
      "cell_type": "code",
      "metadata": {
        "id": "NA8v-wtLQsxT",
        "colab_type": "code",
        "outputId": "d6ac5a87-ab26-4974-d7f2-b206e8d21e73",
        "colab": {
          "base_uri": "https://localhost:8080/",
          "height": 149
        }
      },
      "source": [
        "# Evaluar modelo\n",
        "#\n",
        "set.seed(123)\n",
        "modelo_pred <- predict(modelo, \n",
        "                       newdata = datos_test ) \n",
        "postResample(modelo_pred, \n",
        "             datos_test$NO2)"
      ],
      "execution_count": 0,
      "outputs": [
        {
          "output_type": "display_data",
          "data": {
            "text/plain": [
              "    RMSE Rsquared      MAE \n",
              "4.360033 0.679588 3.111691 "
            ],
            "text/latex": "\\begin{description*}\n\\item[RMSE] 4.36003292844077\n\\item[Rsquared] 0.679588042850279\n\\item[MAE] 3.11169102801696\n\\end{description*}\n",
            "text/markdown": "RMSE\n:   4.36003292844077Rsquared\n:   0.679588042850279MAE\n:   3.11169102801696\n\n",
            "text/html": [
              "<dl class=dl-horizontal>\n",
              "\t<dt>RMSE</dt>\n",
              "\t\t<dd>4.36003292844077</dd>\n",
              "\t<dt>Rsquared</dt>\n",
              "\t\t<dd>0.679588042850279</dd>\n",
              "\t<dt>MAE</dt>\n",
              "\t\t<dd>3.11169102801696</dd>\n",
              "</dl>\n"
            ]
          },
          "metadata": {
            "tags": []
          }
        }
      ]
    },
    {
      "cell_type": "code",
      "metadata": {
        "id": "zSkjtI5_QwNx",
        "colab_type": "code",
        "outputId": "f7706a90-d4a3-43d6-c2a6-9fe029f23b51",
        "colab": {
          "base_uri": "https://localhost:8080/",
          "height": 312
        }
      },
      "source": [
        "####################################\n",
        "# 3.\n",
        "# Metodo de entrenamiento boot sobre randomForest\n",
        "# \n",
        "# boot: se utiliza para cuantificar la incertidumbre asociada con un \n",
        "# estimador dado o un enfoque de aprendizaje estadístico\n",
        "#\n",
        "set.seed(123)\n",
        "tc <- trainControl(\"boot\",\n",
        "                   number=6, \n",
        "                   verboseIter = FALSE,\n",
        "                   allowParallel = TRUE)\n",
        "modelo <- train(NO2~.,\n",
        "                data=datos_train,\n",
        "                method='rf',\n",
        "                trControl=tc,\n",
        "                tuneLength=3,\n",
        "                importance=TRUE,\n",
        "                metric='RMSE')\n",
        "modelo"
      ],
      "execution_count": 0,
      "outputs": [
        {
          "output_type": "display_data",
          "data": {
            "text/plain": [
              "Random Forest \n",
              "\n",
              "6811 samples\n",
              "   7 predictor\n",
              "\n",
              "No pre-processing\n",
              "Resampling: Bootstrapped (6 reps) \n",
              "Summary of sample sizes: 6811, 6811, 6811, 6811, 6811, 6811, ... \n",
              "Resampling results across tuning parameters:\n",
              "\n",
              "  mtry  RMSE      Rsquared   MAE     \n",
              "  2     4.540839  0.6564286  3.146157\n",
              "  4     4.604423  0.6419075  3.161031\n",
              "  7     4.708091  0.6263386  3.223310\n",
              "\n",
              "RMSE was used to select the optimal model using the smallest value.\n",
              "The final value used for the model was mtry = 2."
            ]
          },
          "metadata": {
            "tags": []
          }
        }
      ]
    },
    {
      "cell_type": "code",
      "metadata": {
        "id": "cjIFHHo5ww1g",
        "colab_type": "code",
        "outputId": "4bc092de-de2b-4c07-9f45-11dbbc3e0848",
        "colab": {
          "base_uri": "https://localhost:8080/",
          "height": 437
        }
      },
      "source": [
        "####################################\n",
        "# Grafica\n",
        "ggplot(modelo, highlight = TRUE) +\n",
        "  scale_x_continuous(breaks = 1:30) +\n",
        "  labs(title = \"Evolución del RMSE del modelo Random Forest con boot\") +\n",
        "  guides(color = guide_legend(title = \"mtry\"),\n",
        "         shape = guide_legend(title = \"mtry\")) +\n",
        "  theme_bw()"
      ],
      "execution_count": 0,
      "outputs": [
        {
          "output_type": "display_data",
          "data": {
            "image/png": "[encoded data removed]",
            "text/plain": [
              "plot without title"
            ]
          },
          "metadata": {
            "tags": [],
            "image/png": {
              "width": 420,
              "height": 420
            },
            "text/plain": {
              "width": 420,
              "height": 420
            }
          }
        }
      ]
    },
    {
      "cell_type": "code",
      "metadata": {
        "id": "eHB-e4PdQyG0",
        "colab_type": "code",
        "outputId": "32a6fcbd-6ae4-40ba-ac27-b0d58331daba",
        "colab": {
          "base_uri": "https://localhost:8080/",
          "height": 347
        }
      },
      "source": [
        "# Vista de la importancia rf boot\n",
        "#\n",
        "varImp(modelo)\n",
        "modelo$finalModel"
      ],
      "execution_count": 0,
      "outputs": [
        {
          "output_type": "display_data",
          "data": {
            "text/plain": [
              "rf variable importance\n",
              "\n",
              "      Overall\n",
              "O3     100.00\n",
              "NO      49.46\n",
              "PM2.5   42.69\n",
              "Hora    28.04\n",
              "SO2     20.88\n",
              "PM1.0   12.98\n",
              "CO       0.00"
            ]
          },
          "metadata": {
            "tags": []
          }
        },
        {
          "output_type": "display_data",
          "data": {
            "text/plain": [
              "\n",
              "Call:\n",
              " randomForest(x = x, y = y, mtry = param$mtry, importance = TRUE) \n",
              "               Type of random forest: regression\n",
              "                     Number of trees: 500\n",
              "No. of variables tried at each split: 2\n",
              "\n",
              "          Mean of squared residuals: 20.22154\n",
              "                    % Var explained: 66.91"
            ]
          },
          "metadata": {
            "tags": []
          }
        }
      ]
    },
    {
      "cell_type": "code",
      "metadata": {
        "id": "TAgAGSvMQz_2",
        "colab_type": "code",
        "outputId": "0d54ad8a-767e-47ce-a901-a20601b25946",
        "colab": {
          "base_uri": "https://localhost:8080/",
          "height": 99
        }
      },
      "source": [
        "# Valores metricas\n",
        "#\n",
        "getTrainPerf(modelo)"
      ],
      "execution_count": 0,
      "outputs": [
        {
          "output_type": "display_data",
          "data": {
            "text/plain": [
              "  TrainRMSE TrainRsquared TrainMAE method\n",
              "1 4.540839  0.6564286     3.146157 rf    "
            ],
            "text/latex": "A data.frame: 1 × 4\n\\begin{tabular}{llll}\n TrainRMSE & TrainRsquared & TrainMAE & method\\\\\n <dbl> & <dbl> & <dbl> & <chr>\\\\\n\\hline\n\t 4.540839 & 0.6564286 & 3.146157 & rf\\\\\n\\end{tabular}\n",
            "text/markdown": "\nA data.frame: 1 × 4\n\n| TrainRMSE &lt;dbl&gt; | TrainRsquared &lt;dbl&gt; | TrainMAE &lt;dbl&gt; | method &lt;chr&gt; |\n|---|---|---|---|\n| 4.540839 | 0.6564286 | 3.146157 | rf |\n\n",
            "text/html": [
              "<table>\n",
              "<caption>A data.frame: 1 × 4</caption>\n",
              "<thead>\n",
              "\t<tr><th scope=col>TrainRMSE</th><th scope=col>TrainRsquared</th><th scope=col>TrainMAE</th><th scope=col>method</th></tr>\n",
              "\t<tr><th scope=col>&lt;dbl&gt;</th><th scope=col>&lt;dbl&gt;</th><th scope=col>&lt;dbl&gt;</th><th scope=col>&lt;chr&gt;</th></tr>\n",
              "</thead>\n",
              "<tbody>\n",
              "\t<tr><td>4.540839</td><td>0.6564286</td><td>3.146157</td><td>rf</td></tr>\n",
              "</tbody>\n",
              "</table>\n"
            ]
          },
          "metadata": {
            "tags": []
          }
        }
      ]
    },
    {
      "cell_type": "code",
      "metadata": {
        "id": "5cCOZ0O5Q1ys",
        "colab_type": "code",
        "outputId": "3eba2ec0-8438-491e-ff0b-d1d3500ae9c5",
        "colab": {
          "base_uri": "https://localhost:8080/",
          "height": 149
        }
      },
      "source": [
        "# Evaluar modelo\n",
        "#\n",
        "set.seed(123)\n",
        "modelo_pred <- predict(modelo, \n",
        "                       newdata = datos_test ) \n",
        "postResample(modelo_pred, \n",
        "             datos_test$NO2)"
      ],
      "execution_count": 0,
      "outputs": [
        {
          "output_type": "display_data",
          "data": {
            "text/plain": [
              "    RMSE Rsquared      MAE \n",
              "4.360033 0.679588 3.111691 "
            ],
            "text/latex": "\\begin{description*}\n\\item[RMSE] 4.36003292844077\n\\item[Rsquared] 0.679588042850279\n\\item[MAE] 3.11169102801696\n\\end{description*}\n",
            "text/markdown": "RMSE\n:   4.36003292844077Rsquared\n:   0.679588042850279MAE\n:   3.11169102801696\n\n",
            "text/html": [
              "<dl class=dl-horizontal>\n",
              "\t<dt>RMSE</dt>\n",
              "\t\t<dd>4.36003292844077</dd>\n",
              "\t<dt>Rsquared</dt>\n",
              "\t\t<dd>0.679588042850279</dd>\n",
              "\t<dt>MAE</dt>\n",
              "\t\t<dd>3.11169102801696</dd>\n",
              "</dl>\n"
            ]
          },
          "metadata": {
            "tags": []
          }
        }
      ]
    },
    {
      "cell_type": "code",
      "metadata": {
        "id": "wSUBnPosQ3yj",
        "colab_type": "code",
        "outputId": "3cce8c1a-71b0-43e0-80f1-72c3dfa43245",
        "colab": {
          "base_uri": "https://localhost:8080/",
          "height": 260
        }
      },
      "source": [
        "#####################################\n",
        "#         SVM_Linear                #\n",
        "#####################################\n",
        "\n",
        "##################################\n",
        "# 1.\n",
        "# Metodo de entrenamiento boot sobre SVM-Linear\n",
        "#\n",
        "# svm-linear: SVM es un modelo que representa a los puntos de muestra \n",
        "# en el espacio\n",
        "#\n",
        "set.seed(123)\n",
        "tc <- trainControl(\"boot\",\n",
        "                   number=5,\n",
        "                   verboseIter = FALSE,\n",
        "                   allowParallel = TRUE)\n",
        "modelo <- train(NO2~.,\n",
        "                data=datos_train,\n",
        "                method='svmLinear',\n",
        "                trControl=tc,\n",
        "                tuneLength=3,\n",
        "                importance=TRUE,\n",
        "                metric='RMSE')\n",
        "modelo"
      ],
      "execution_count": 0,
      "outputs": [
        {
          "output_type": "display_data",
          "data": {
            "text/plain": [
              "Support Vector Machines with Linear Kernel \n",
              "\n",
              "6811 samples\n",
              "   7 predictor\n",
              "\n",
              "No pre-processing\n",
              "Resampling: Bootstrapped (5 reps) \n",
              "Summary of sample sizes: 6811, 6811, 6811, 6811, 6811 \n",
              "Resampling results:\n",
              "\n",
              "  RMSE      Rsquared   MAE     \n",
              "  5.994952  0.4350647  3.920991\n",
              "\n",
              "Tuning parameter 'C' was held constant at a value of 1"
            ]
          },
          "metadata": {
            "tags": []
          }
        }
      ]
    },
    {
      "cell_type": "code",
      "metadata": {
        "id": "2ej7tqflQ719",
        "colab_type": "code",
        "outputId": "5e2d6054-6e08-4b6a-daa3-b8ad93fc21ba",
        "colab": {
          "base_uri": "https://localhost:8080/",
          "height": 322
        }
      },
      "source": [
        "# Vista de la importancia\n",
        "#\n",
        "varImp(modelo)\n",
        "modelo$finalMode"
      ],
      "execution_count": 0,
      "outputs": [
        {
          "output_type": "stream",
          "text": [
            "Warning message in mean.default(y, rm.na = TRUE):\n",
            "“argument is not numeric or logical: returning NA”\n"
          ],
          "name": "stderr"
        },
        {
          "output_type": "error",
          "ename": "ERROR",
          "evalue": "ignored",
          "traceback": [
            "Error in model.frame.default(formula = y ~ x, na.action = na.omit, drop.unused.levels = TRUE): invalid type (list) for variable 'y'\nTraceback:\n",
            "1. varImp(modelo)",
            "2. varImp.train(modelo)",
            "3. filterVarImp(x_dat, y_dat, nonpara = nonpara, ...)",
            "4. apply(x, 2, testFunc, y = y)",
            "5. FUN(newX[, i], ...)",
            "6. lm(y ~ x, na.action = na.omit, ...)",
            "7. eval(mf, parent.frame())",
            "8. eval(mf, parent.frame())",
            "9. stats::model.frame(formula = y ~ x, na.action = na.omit, drop.unused.levels = TRUE)",
            "10. model.frame.default(formula = y ~ x, na.action = na.omit, drop.unused.levels = TRUE)"
          ]
        }
      ]
    },
    {
      "cell_type": "code",
      "metadata": {
        "id": "kLeRpCafQ-YX",
        "colab_type": "code",
        "outputId": "69c8288c-927d-431a-d3fb-2073f31862f7",
        "colab": {
          "base_uri": "https://localhost:8080/",
          "height": 99
        }
      },
      "source": [
        "# Valores metricas\n",
        "#\n",
        "getTrainPerf(modelo)"
      ],
      "execution_count": 0,
      "outputs": [
        {
          "output_type": "display_data",
          "data": {
            "text/plain": [
              "  TrainRMSE TrainRsquared TrainMAE method   \n",
              "1 5.994952  0.4350647     3.920991 svmLinear"
            ],
            "text/latex": "A data.frame: 1 × 4\n\\begin{tabular}{llll}\n TrainRMSE & TrainRsquared & TrainMAE & method\\\\\n <dbl> & <dbl> & <dbl> & <chr>\\\\\n\\hline\n\t 5.994952 & 0.4350647 & 3.920991 & svmLinear\\\\\n\\end{tabular}\n",
            "text/markdown": "\nA data.frame: 1 × 4\n\n| TrainRMSE &lt;dbl&gt; | TrainRsquared &lt;dbl&gt; | TrainMAE &lt;dbl&gt; | method &lt;chr&gt; |\n|---|---|---|---|\n| 5.994952 | 0.4350647 | 3.920991 | svmLinear |\n\n",
            "text/html": [
              "<table>\n",
              "<caption>A data.frame: 1 × 4</caption>\n",
              "<thead>\n",
              "\t<tr><th scope=col>TrainRMSE</th><th scope=col>TrainRsquared</th><th scope=col>TrainMAE</th><th scope=col>method</th></tr>\n",
              "\t<tr><th scope=col>&lt;dbl&gt;</th><th scope=col>&lt;dbl&gt;</th><th scope=col>&lt;dbl&gt;</th><th scope=col>&lt;chr&gt;</th></tr>\n",
              "</thead>\n",
              "<tbody>\n",
              "\t<tr><td>5.994952</td><td>0.4350647</td><td>3.920991</td><td>svmLinear</td></tr>\n",
              "</tbody>\n",
              "</table>\n"
            ]
          },
          "metadata": {
            "tags": []
          }
        }
      ]
    },
    {
      "cell_type": "code",
      "metadata": {
        "id": "2SYsz9sQRAkX",
        "colab_type": "code",
        "outputId": "7ce15459-72ff-41ff-ef98-ff1b3b561545",
        "colab": {
          "base_uri": "https://localhost:8080/",
          "height": 149
        }
      },
      "source": [
        "# Evaluar modelo\n",
        "#\n",
        "set.seed(123)\n",
        "modelo_pred <- predict(modelo, \n",
        "                       newdata = datos_test ) \n",
        "postResample(modelo_pred, \n",
        "             datos_test$NO2)"
      ],
      "execution_count": 0,
      "outputs": [
        {
          "output_type": "display_data",
          "data": {
            "text/plain": [
              "     RMSE  Rsquared       MAE \n",
              "6.0264679 0.3912559 3.9857498 "
            ],
            "text/latex": "\\begin{description*}\n\\item[RMSE] 6.02646785918962\n\\item[Rsquared] 0.391255932949122\n\\item[MAE] 3.98574978506953\n\\end{description*}\n",
            "text/markdown": "RMSE\n:   6.02646785918962Rsquared\n:   0.391255932949122MAE\n:   3.98574978506953\n\n",
            "text/html": [
              "<dl class=dl-horizontal>\n",
              "\t<dt>RMSE</dt>\n",
              "\t\t<dd>6.02646785918962</dd>\n",
              "\t<dt>Rsquared</dt>\n",
              "\t\t<dd>0.391255932949122</dd>\n",
              "\t<dt>MAE</dt>\n",
              "\t\t<dd>3.98574978506953</dd>\n",
              "</dl>\n"
            ]
          },
          "metadata": {
            "tags": []
          }
        }
      ]
    },
    {
      "cell_type": "code",
      "metadata": {
        "id": "rmATH4jVXwxj",
        "colab_type": "code",
        "colab": {}
      },
      "source": [
        "###################################\n",
        "# 2.\n",
        "# Metodo de entrenamiento repeatedCV sobre SVM-Linear\n",
        "#\n",
        "# svm-linear: SVM es un modelo que representa a los puntos de muestra \n",
        "# en el espacio\n",
        "#\n",
        "set.seed(123)\n",
        "tc <- trainControl(\"repeatedcv\",\n",
        "                   number=8,\n",
        "                   repeats=4,\n",
        "                   verboseIter = FALSE,\n",
        "                   allowParallel = TRUE)\n",
        "modelo <- train(NO2~.,\n",
        "                data=datos_train,\n",
        "                method='svmLinear',\n",
        "                trControl=tc,\n",
        "                tuneLength=3,\n",
        "                importance=TRUE,\n",
        "                metric='RMSE')\n",
        "modelo"
      ],
      "execution_count": 0,
      "outputs": []
    },
    {
      "cell_type": "code",
      "metadata": {
        "id": "OR5fvNEad_4X",
        "colab_type": "code",
        "colab": {}
      },
      "source": [
        "# Vista de la importancia\n",
        "#\n",
        "varImp(modelo)\n",
        "modelo$finalMode"
      ],
      "execution_count": 0,
      "outputs": []
    },
    {
      "cell_type": "code",
      "metadata": {
        "id": "cebFQL2hd8Iq",
        "colab_type": "code",
        "colab": {}
      },
      "source": [
        "# Valores metricas\n",
        "#\n",
        "getTrainPerf(modelo)"
      ],
      "execution_count": 0,
      "outputs": []
    },
    {
      "cell_type": "code",
      "metadata": {
        "id": "2Syeob3jd7Pu",
        "colab_type": "code",
        "colab": {}
      },
      "source": [
        "# Evaluar modelo\n",
        "#\n",
        "set.seed(123)\n",
        "modelo_pred <- predict(modelo, \n",
        "                       newdata = datos_test ) \n",
        "postResample(modelo_pred, \n",
        "             datos_test$NO2)"
      ],
      "execution_count": 0,
      "outputs": []
    },
    {
      "cell_type": "code",
      "metadata": {
        "id": "ii_PrV6ORBmC",
        "colab_type": "code",
        "outputId": "954008cc-0855-4547-e626-756577ebcb9b",
        "colab": {
          "base_uri": "https://localhost:8080/",
          "height": 260
        }
      },
      "source": [
        "#####################################\n",
        "#         LM                        #\n",
        "#####################################\n",
        "\n",
        "##################################\n",
        "# 1.\n",
        "# Metodo de entrenamiento boot sobre LM\n",
        "#\n",
        "# lm: regresión lineal\n",
        "#\n",
        "set.seed(123)\n",
        "tc <- trainControl(\"boot\",\n",
        "                   number=6, \n",
        "                   allowParallel = TRUE)\n",
        "modelo <- train(NO2~.,\n",
        "                data=datos_train,\n",
        "                method='lm',\n",
        "                trControl=tc,\n",
        "                tuneLength=3,\n",
        "                metric='RMSE')\n",
        "modelo"
      ],
      "execution_count": 0,
      "outputs": [
        {
          "output_type": "display_data",
          "data": {
            "text/plain": [
              "Linear Regression \n",
              "\n",
              "6811 samples\n",
              "   7 predictor\n",
              "\n",
              "No pre-processing\n",
              "Resampling: Bootstrapped (6 reps) \n",
              "Summary of sample sizes: 6811, 6811, 6811, 6811, 6811, 6811, ... \n",
              "Resampling results:\n",
              "\n",
              "  RMSE      Rsquared   MAE    \n",
              "  5.735445  0.4445653  4.11345\n",
              "\n",
              "Tuning parameter 'intercept' was held constant at a value of TRUE"
            ]
          },
          "metadata": {
            "tags": []
          }
        }
      ]
    },
    {
      "cell_type": "code",
      "metadata": {
        "id": "6NrXfbwURFV0",
        "colab_type": "code",
        "outputId": "0152db00-abe7-42a5-f823-51f790b199ef",
        "colab": {
          "base_uri": "https://localhost:8080/",
          "height": 347
        }
      },
      "source": [
        "# Vista de la importancia\n",
        "#\n",
        "varImp(modelo)\n",
        "modelo$finalModel"
      ],
      "execution_count": 0,
      "outputs": [
        {
          "output_type": "display_data",
          "data": {
            "text/plain": [
              "lm variable importance\n",
              "\n",
              "      Overall\n",
              "O3     100.00\n",
              "NO      49.19\n",
              "PM2.5   37.35\n",
              "SO2     31.79\n",
              "CO      22.53\n",
              "PM1.0    9.26\n",
              "Hora     0.00"
            ]
          },
          "metadata": {
            "tags": []
          }
        },
        {
          "output_type": "display_data",
          "data": {
            "text/plain": [
              "\n",
              "Call:\n",
              "lm(formula = .outcome ~ ., data = dat)\n",
              "\n",
              "Coefficients:\n",
              "(Intercept)         Hora          SO2           NO        PM1.0        PM2.5  \n",
              "    1.84464      0.02264      4.31611      0.68378     -0.02104      0.29619  \n",
              "         O3           CO  \n",
              "   -0.20512     30.24135  \n"
            ]
          },
          "metadata": {
            "tags": []
          }
        }
      ]
    },
    {
      "cell_type": "code",
      "metadata": {
        "id": "KeATIn33RHDA",
        "colab_type": "code",
        "outputId": "cf30f903-af6d-4af1-ef23-cd63c6eeec2c",
        "colab": {
          "base_uri": "https://localhost:8080/",
          "height": 99
        }
      },
      "source": [
        "# Valores metricas\n",
        "#\n",
        "getTrainPerf(modelo)"
      ],
      "execution_count": 0,
      "outputs": [
        {
          "output_type": "display_data",
          "data": {
            "text/plain": [
              "  TrainRMSE TrainRsquared TrainMAE method\n",
              "1 5.735445  0.4445653     4.11345  lm    "
            ],
            "text/latex": "A data.frame: 1 × 4\n\\begin{tabular}{llll}\n TrainRMSE & TrainRsquared & TrainMAE & method\\\\\n <dbl> & <dbl> & <dbl> & <chr>\\\\\n\\hline\n\t 5.735445 & 0.4445653 & 4.11345 & lm\\\\\n\\end{tabular}\n",
            "text/markdown": "\nA data.frame: 1 × 4\n\n| TrainRMSE &lt;dbl&gt; | TrainRsquared &lt;dbl&gt; | TrainMAE &lt;dbl&gt; | method &lt;chr&gt; |\n|---|---|---|---|\n| 5.735445 | 0.4445653 | 4.11345 | lm |\n\n",
            "text/html": [
              "<table>\n",
              "<caption>A data.frame: 1 × 4</caption>\n",
              "<thead>\n",
              "\t<tr><th scope=col>TrainRMSE</th><th scope=col>TrainRsquared</th><th scope=col>TrainMAE</th><th scope=col>method</th></tr>\n",
              "\t<tr><th scope=col>&lt;dbl&gt;</th><th scope=col>&lt;dbl&gt;</th><th scope=col>&lt;dbl&gt;</th><th scope=col>&lt;chr&gt;</th></tr>\n",
              "</thead>\n",
              "<tbody>\n",
              "\t<tr><td>5.735445</td><td>0.4445653</td><td>4.11345</td><td>lm</td></tr>\n",
              "</tbody>\n",
              "</table>\n"
            ]
          },
          "metadata": {
            "tags": []
          }
        }
      ]
    },
    {
      "cell_type": "code",
      "metadata": {
        "id": "zsPStfO7RJgD",
        "colab_type": "code",
        "outputId": "3d3171ed-8f4e-4095-b08a-188403fa6041",
        "colab": {
          "base_uri": "https://localhost:8080/",
          "height": 149
        }
      },
      "source": [
        "# Evaluar modelo\n",
        "#\n",
        "set.seed(123)\n",
        "modelo_pred <- predict(modelo, \n",
        "                       newdata = datos_test ) \n",
        "postResample(modelo_pred, \n",
        "             datos_test$NO2)"
      ],
      "execution_count": 0,
      "outputs": [
        {
          "output_type": "display_data",
          "data": {
            "text/plain": [
              "     RMSE  Rsquared       MAE \n",
              "5.7987013 0.4233441 4.2332221 "
            ],
            "text/latex": "\\begin{description*}\n\\item[RMSE] 5.7987013305661\n\\item[Rsquared] 0.423344064500396\n\\item[MAE] 4.23322211965282\n\\end{description*}\n",
            "text/markdown": "RMSE\n:   5.7987013305661Rsquared\n:   0.423344064500396MAE\n:   4.23322211965282\n\n",
            "text/html": [
              "<dl class=dl-horizontal>\n",
              "\t<dt>RMSE</dt>\n",
              "\t\t<dd>5.7987013305661</dd>\n",
              "\t<dt>Rsquared</dt>\n",
              "\t\t<dd>0.423344064500396</dd>\n",
              "\t<dt>MAE</dt>\n",
              "\t\t<dd>4.23322211965282</dd>\n",
              "</dl>\n"
            ]
          },
          "metadata": {
            "tags": []
          }
        }
      ]
    },
    {
      "cell_type": "code",
      "metadata": {
        "id": "2XXS-Of_Z6YE",
        "colab_type": "code",
        "outputId": "fd27df35-3acc-4478-f944-27faa9eedafc",
        "colab": {
          "base_uri": "https://localhost:8080/",
          "height": 260
        }
      },
      "source": [
        "##################################\n",
        "# 2.\n",
        "# Metodo de entrenamiento repeatedCV sobre LM\n",
        "#\n",
        "set.seed(123)\n",
        "tc <- trainControl(\"repeatedcv\",\n",
        "                   number=8,\n",
        "                   repeats=4, \n",
        "                   allowParallel = TRUE)\n",
        "modelo <- train(NO2~.,\n",
        "                data=datos_train,\n",
        "                method='lm',\n",
        "                trControl=tc,\n",
        "                tuneLength=3,\n",
        "                metric='RMSE')\n",
        "modelo"
      ],
      "execution_count": 0,
      "outputs": [
        {
          "output_type": "display_data",
          "data": {
            "text/plain": [
              "Linear Regression \n",
              "\n",
              "6811 samples\n",
              "   7 predictor\n",
              "\n",
              "No pre-processing\n",
              "Resampling: Cross-Validated (8 fold, repeated 4 times) \n",
              "Summary of sample sizes: 5960, 5960, 5961, 5959, 5959, 5958, ... \n",
              "Resampling results:\n",
              "\n",
              "  RMSE      Rsquared  MAE     \n",
              "  5.806321  0.448464  4.131756\n",
              "\n",
              "Tuning parameter 'intercept' was held constant at a value of TRUE"
            ]
          },
          "metadata": {
            "tags": []
          }
        }
      ]
    },
    {
      "cell_type": "code",
      "metadata": {
        "id": "AMjsLqI1iXP7",
        "colab_type": "code",
        "colab": {}
      },
      "source": [
        "# Vista de la importancia\n",
        "#\n",
        "varImp(modelo)\n",
        "modelo$finalMode"
      ],
      "execution_count": 0,
      "outputs": []
    },
    {
      "cell_type": "code",
      "metadata": {
        "id": "1c8mBiizaZUG",
        "colab_type": "code",
        "outputId": "9c9c7c81-66af-47e6-b7dc-7c8a991c6f46",
        "colab": {
          "base_uri": "https://localhost:8080/",
          "height": 99
        }
      },
      "source": [
        "# Valores metricas\n",
        "#\n",
        "getTrainPerf(modelo)"
      ],
      "execution_count": 0,
      "outputs": [
        {
          "output_type": "display_data",
          "data": {
            "text/plain": [
              "  TrainRMSE TrainRsquared TrainMAE method\n",
              "1 5.806321  0.448464      4.131756 lm    "
            ],
            "text/latex": "A data.frame: 1 × 4\n\\begin{tabular}{llll}\n TrainRMSE & TrainRsquared & TrainMAE & method\\\\\n <dbl> & <dbl> & <dbl> & <chr>\\\\\n\\hline\n\t 5.806321 & 0.448464 & 4.131756 & lm\\\\\n\\end{tabular}\n",
            "text/markdown": "\nA data.frame: 1 × 4\n\n| TrainRMSE &lt;dbl&gt; | TrainRsquared &lt;dbl&gt; | TrainMAE &lt;dbl&gt; | method &lt;chr&gt; |\n|---|---|---|---|\n| 5.806321 | 0.448464 | 4.131756 | lm |\n\n",
            "text/html": [
              "<table>\n",
              "<caption>A data.frame: 1 × 4</caption>\n",
              "<thead>\n",
              "\t<tr><th scope=col>TrainRMSE</th><th scope=col>TrainRsquared</th><th scope=col>TrainMAE</th><th scope=col>method</th></tr>\n",
              "\t<tr><th scope=col>&lt;dbl&gt;</th><th scope=col>&lt;dbl&gt;</th><th scope=col>&lt;dbl&gt;</th><th scope=col>&lt;chr&gt;</th></tr>\n",
              "</thead>\n",
              "<tbody>\n",
              "\t<tr><td>5.806321</td><td>0.448464</td><td>4.131756</td><td>lm</td></tr>\n",
              "</tbody>\n",
              "</table>\n"
            ]
          },
          "metadata": {
            "tags": []
          }
        }
      ]
    },
    {
      "cell_type": "code",
      "metadata": {
        "id": "01yjrO3naeGh",
        "colab_type": "code",
        "outputId": "3ed4f1a3-885a-4e79-d575-5deb9682aa26",
        "colab": {
          "base_uri": "https://localhost:8080/",
          "height": 149
        }
      },
      "source": [
        "# Evaluar modelo\n",
        "#\n",
        "set.seed(123)\n",
        "modelo_pred <- predict(modelo, \n",
        "                       newdata = datos_test ) \n",
        "postResample(modelo_pred, \n",
        "             datos_test$NO2)"
      ],
      "execution_count": 0,
      "outputs": [
        {
          "output_type": "display_data",
          "data": {
            "text/plain": [
              "     RMSE  Rsquared       MAE \n",
              "5.7987013 0.4233441 4.2332221 "
            ],
            "text/latex": "\\begin{description*}\n\\item[RMSE] 5.7987013305661\n\\item[Rsquared] 0.423344064500396\n\\item[MAE] 4.23322211965282\n\\end{description*}\n",
            "text/markdown": "RMSE\n:   5.7987013305661Rsquared\n:   0.423344064500396MAE\n:   4.23322211965282\n\n",
            "text/html": [
              "<dl class=dl-horizontal>\n",
              "\t<dt>RMSE</dt>\n",
              "\t\t<dd>5.7987013305661</dd>\n",
              "\t<dt>Rsquared</dt>\n",
              "\t\t<dd>0.423344064500396</dd>\n",
              "\t<dt>MAE</dt>\n",
              "\t\t<dd>4.23322211965282</dd>\n",
              "</dl>\n"
            ]
          },
          "metadata": {
            "tags": []
          }
        }
      ]
    }
  ]
}